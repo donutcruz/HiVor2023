{
 "cells": [
  {
   "cell_type": "markdown",
   "id": "d9660412-bbb5-4205-ad39-efac39295ca4",
   "metadata": {},
   "source": [
    "# Heimadæmi 02 | TÖL203G\n",
    "#### Donn Eunice Bartido Patambag | 2507943479 | deb5@hi"
   ]
  },
  {
   "cell_type": "markdown",
   "id": "8f013ff4-439b-4b31-ac98-75f92cf72d3c",
   "metadata": {},
   "source": [
    "## 1. [Mergesort]\n",
    "\n",
    "Skoðið Java kóðann fyrir Mergesort (Algorithm 2.4 í bókinni, glæra 8 í \n",
    "fyrirlestri 9). \n",
    "Segjum að við köllum aðeins á merge-fallið (neðsta línan í sort-fallinu) ef a[mid+1] er minna en a[mid]. \n",
    "- a. Hvers vegna er í lagi að gera þetta? \n",
    "- b. Á hvernig inntaki myndum við græða mest á að bæta þessu inn? "
   ]
  },
  {
   "cell_type": "markdown",
   "id": "dd6dcab1-3a1e-4580-8699-82c4036083df",
   "metadata": {},
   "source": [
    "### Lausn við 1.\n",
    "\n",
    "**a)** \n",
    "- Þegar a[mid+1] er minna en a[mid] þá er hægt að sleppa keyrslu merge-fallsins venga þess að þá er fyrsti hlutlistinn (frá lo og að mid) nú þegar röðuð, og önnur hlutlistinn (frá mid+1 og upp í hi) er einnig röðuð. Þess vegna þarf aðeins að sameina þessar tvær röðuðu listana með því að bera saman minnstu stökinn í hvoru listanum, og þannig er hægt að útfæra þetta sameinunar aðferð á hraðara hátt en með því að keyra fullt merge-fall.\n",
    "\n",
    "**b)** \n",
    "- Við myndum græða mest á þessari leið ef listinn er næstum því raðað eða alveg óraðað. Þetta er vegna þess að þegar listi er fullkomlega raðað og við myndum keyra merge-fallið þá yrði það tímafrekt að skoða hvort á hverjum tímapunkti að  a[mid+1] sé minna en a[mid]  á hverjum tímapunkti. \n",
    "- Þegar listinn er næstum því raðað þá gæti þessi aukaleið náð betri keyrsluhraða í þeirri tilfelli þegar\n",
    "stök sem eru nálægt miðju er nú þegar raðað. og þá þarf ekki að keyra fullt merge-fall til að raða þeim. "
   ]
  },
  {
   "cell_type": "markdown",
   "id": "c2e719fa-607b-4d53-8ebc-3c65e8a62e1e",
   "metadata": {},
   "source": [
    "## 2. 2. [Quicksort] \n",
    "\n",
    "- Leysið dæmi 2.3.18 á bls. 305 í kennslubókinni. \n",
    "- Kallið ykkar útgáfu QuickX \n",
    "og berið hana saman við upphaflegu útgáfuna í bókinni (Quick.java) með forritinu \n",
    "SortCompare.java.  Þið getið hent út úr SortCompare notkun á öðrum röðunar-\n",
    "aðferðum. \n",
    "- Skilið breyttu útgáfunni af partition-fallinu og niðurstöðu úr samanburði \n",
    "á Quick og QuickX í SortCompare.  Til að fá raunhæfan samanburð notið n = \n",
    "1000000 og trials = 10. \n",
    "- Þá ættuð þið líka að breyta útprentunarskipuninni í \n",
    "SortCompare, þannig að þið fáið fleiri aukastafi í hlutfallinu milli tímanna.  Það ætti \n",
    "ekki að vera mjög mikill munur á þessum tveimur útgáfum.  Hvers vegna er það? "
   ]
  },
  {
   "cell_type": "markdown",
   "id": "e4dc4605-1644-4c73-b781-5067d8cb3685",
   "metadata": {},
   "source": [
    "### Lausn við 2. "
   ]
  },
  {
   "cell_type": "markdown",
   "id": "47b340b1-4078-459f-aac4-8fcbae927645",
   "metadata": {},
   "source": [
    "## 3. [Quicksort] \n",
    "- Fylkinu [2, 3, 1, 4, 5, 7, 6, 8] hefur verið skipt (partitioned) um vendistak (og \n",
    "það sett á réttan stað), en það er ekki gefið upp hvert vendistakið var.  Hver af stökunum \n",
    "gætu hafa verið vendistakið?  Teljið upp öll möguleg stök og rökstyðjið að þau séu \n",
    "möguleg og hin séu það ekki. "
   ]
  },
  {
   "cell_type": "markdown",
   "id": "02942abd-fd5d-48f5-9c8b-ac1a1281ac7e",
   "metadata": {},
   "source": [
    "### Lausn við 3\n",
    "\n",
    "- Ef fylkið **[2, 3, 1, 4, 5, 7, 6, 8]** hefur verið skipt um vendistak og ekki gefið upp hvert vendistakið er þá geta öll stökinn verið vendistök. \n",
    "- Við getum rökstutt málið með því vísa í **QuickSort** keyrslu sem notar yfirleitt fyrsta stakið sem vendistak.\n",
    "- Í **QuickSort** keyrslu er ekki hægt að giska á hvað vendistakið er ef því var ekki gefið upp.\n",
    "- Það er ss ekki hægt að önnur stök í fylkinu hafi verið vendistak ef við höfum skipt fylkinu niður og allar hlutar fylkisins innan þessara takmarkana eru annað hvort minni eða stærri en vendistakið. "
   ]
  },
  {
   "cell_type": "markdown",
   "id": "471faf97-3e4a-43f4-ba84-c042b7c047c2",
   "metadata": {},
   "source": [
    "## 4 [Hrúgur]  \n",
    "- Gefið er fylkið [5, 4, 8, 1, 6, 3, 5, 7].  Sýnið hvernig það raðast með hrúguröðun \n",
    "(heap sort) með því að búa til mynd sem er sambærileg við myndina á bls. 324 í \n",
    "kennslubókinni (eða á glæru 35 í fyrirlestri 11).  Sýnið líka hrúguna sem tvíundartré eftir \n",
    "að fylkinu hefur verið hrúguraðað (þrep 1). "
   ]
  },
  {
   "cell_type": "markdown",
   "id": "c0295006-e1bb-4a10-909d-a29d3fe2ccb4",
   "metadata": {},
   "source": [
    "### Lausn við 4. \n",
    "\n",
    "Til þess að raða fylkinu **[5, 4, 8, 1, 6, 3, 5, 7]** með **Hrúguröðun (heap-sort)\n",
    "\n",
    "1) Byggja upp hrúgu útfrá fylkinu okkar **[5, 4, 8, 1, 6, 3, 5, 7]** \n",
    "    - Sama aðgerð og við notum til þess að búa til hrúa úr óraðaðri runu. \n",
    "    - Sem tvíundartré;\n",
    "    \n",
    "<br>\n",
    "<br>\n",
    "<br>\n",
    "<br>\n",
    "<br>\n",
    "\n",
    "2) \n",
    "- Veljum stakið efst í hrúgunni (efst í trénu) \n",
    "- Færum efsta stak í aftasta fylkið okkar \n",
    "- Geymum stökin í hluta af fylkinu sem við köllum röðuð svæði (e. sorted region) \n",
    "\n",
    " **[7,4,5,1,6,3,5,8]**\n",
    "\n",
    "3) \n",
    "- Notum heapify til að fá unsorted hrúguna okkar aftur \n",
    "- tvíundartréð eftir þetta skref \n",
    "\n",
    "<br>\n",
    "<br>\n",
    "<br>\n",
    "<br>\n",
    "<br>\n",
    "\n",
    "4) Gera skref 2-3 aftur þangað til öll stök eru raðað í fylkinu. \n",
    "- Raðað fylkið lýtur svona út \n",
    "\n",
    "**[1,3,4,5,5,6,7,8]**\n",
    "\n",
    "- Raðað tvíundartréð lýtur svona út; \n",
    "\n",
    "<br>\n",
    "<br>\n",
    "<br>\n",
    "<br>\n",
    "<br>\n",
    "\n",
    "\n"
   ]
  },
  {
   "cell_type": "markdown",
   "id": "bba8287a-a81f-4f10-86e8-c066eba944aa",
   "metadata": {},
   "source": [
    "## 5) - skilað í autograder "
   ]
  },
  {
   "cell_type": "code",
   "execution_count": null,
   "id": "6589d773-76d9-4fae-b80a-5abaee65c59a",
   "metadata": {},
   "outputs": [],
   "source": []
  }
 ],
 "metadata": {
  "kernelspec": {
   "display_name": "Python 3 (ipykernel)",
   "language": "python",
   "name": "python3"
  },
  "language_info": {
   "codemirror_mode": {
    "name": "ipython",
    "version": 3
   },
   "file_extension": ".py",
   "mimetype": "text/x-python",
   "name": "python",
   "nbconvert_exporter": "python",
   "pygments_lexer": "ipython3",
   "version": "3.10.8"
  }
 },
 "nbformat": 4,
 "nbformat_minor": 5
}
