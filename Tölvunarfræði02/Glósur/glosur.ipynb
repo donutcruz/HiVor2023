{
 "cells": [
  {
   "cell_type": "code",
   "execution_count": null,
   "id": "75c1645e-1362-4c85-b37f-1b6dc5a8cd0a",
   "metadata": {},
   "outputs": [],
   "source": []
  }
 ],
 "metadata": {
  "kernelspec": {
   "display_name": "Python 3 (ipykernel)",
   "language": "python",
   "name": "python3"
  },
  "language_info": {
   "codemirror_mode": {
    "name": "ipython",
    "version": 3
   },
   "file_extension": ".py",
   "mimetype": "text/x-python",
   "name": "python",
   "nbconvert_exporter": "python",
   "pygments_lexer": "ipython3",
   "version": "3.10.8"
  }
 },
 "nbformat": 4,
 "nbformat_minor": 5
}
