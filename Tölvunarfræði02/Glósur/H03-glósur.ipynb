{
 "cells": [
  {
   "cell_type": "markdown",
   "id": "469054fd-b556-4cb0-b961-7723657139ab",
   "metadata": {},
   "source": [
    "## TÖL203G\n",
    "### Glósur úr lausnir í Heimadæmi02 "
   ]
  },
  {
   "cell_type": "code",
   "execution_count": null,
   "id": "bbb2a6c0-078d-4890-b5ca-1972cf3451e1",
   "metadata": {},
   "outputs": [],
   "source": []
  }
 ],
 "metadata": {
  "kernelspec": {
   "display_name": "Python 3 (ipykernel)",
   "language": "python",
   "name": "python3"
  },
  "language_info": {
   "codemirror_mode": {
    "name": "ipython",
    "version": 3
   },
   "file_extension": ".py",
   "mimetype": "text/x-python",
   "name": "python",
   "nbconvert_exporter": "python",
   "pygments_lexer": "ipython3",
   "version": "3.10.8"
  }
 },
 "nbformat": 4,
 "nbformat_minor": 5
}
