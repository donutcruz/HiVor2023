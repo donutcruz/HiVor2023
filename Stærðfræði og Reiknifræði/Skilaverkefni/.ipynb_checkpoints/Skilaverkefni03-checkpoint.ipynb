{
 "cells": [
  {
   "cell_type": "markdown",
   "id": "aeb2242e-5ec8-4da6-a4c2-5d90f0874077",
   "metadata": {},
   "source": [
    "# Skilaverkefni03. Stærð- og Reiknifræði REI201G\n",
    "### Donn Eunice Bartido deb5@hi.is \n",
    "Janúar 2023\n",
    "               "
   ]
  },
  {
   "cell_type": "markdown",
   "id": "2da5e9ca-4410-4bf2-8e7f-4e0e608741ed",
   "metadata": {},
   "source": [
    "### Verkefni 4. Orðaleikur\n",
    "\n",
    "1) Skrifið fall telja(s) sem byrjar á nota s.split() til að búa til lista af einstökum orðum í s og telur síðan hve margir stafir eru í hverju orði.\n",
    "Fallið á að skila lista með þessari talningu. Þannig ætti\n",
    "\n",
    "telja(\"Afi minn og amma mín\")\n",
    "\n",
    "að skila listanum [3,4,2,4,3]. \n",
    "\n",
    "Prófið líka að telja stafi í nafninu ykkar (t.d. telja(\"Kristján Jónasson\")). Líklega borgar sig að búa fyrst til tóman lista og fara svo í lykkju og bæta nýrri talningu afast í listann í hverri umferð (t.d. með append).\n",
    "\n",
    "2) Búið til fall hrópa(s) sem skrifar s út með stórum stöfum og tveimur upphrópunarmerkjum. Hrópið svo nafnið ykkar :)\n",
    "\n",
    "3) Til að athuga hvort stafur c sé hástafur má spyrja: c == c.upper(). Skrifið fall stórir(s) sem skilar lista af rökgildum með i-ta gildið satt ef i-ta orðið í s byrjar á stórum staf. Prófið með sjálfvöldu dæmi og sýnið niðurstöðuna."
   ]
  },
  {
   "cell_type": "markdown",
   "id": "f02db460-917a-4000-81ea-1ff73c6e18ba",
   "metadata": {
    "tags": []
   },
   "source": [
    "### Lausn: "
   ]
  },
  {
   "cell_type": "code",
   "execution_count": 3,
   "id": "52fb0eb2-cff3-45fb-87c8-cb5706e3432e",
   "metadata": {},
   "outputs": [
    {
     "name": "stdout",
     "output_type": "stream",
     "text": [
      "[3, 4, 2, 4, 3]\n"
     ]
    }
   ],
   "source": [
    "# 1) \n",
    "\n",
    "def telja(s):\n",
    "    ord = s.split()\n",
    "    stafatalning = []\n",
    "    for ord in ord:\n",
    "        stafatalning.append(len(ord))\n",
    "    return stafatalning\n",
    "\n",
    "print(telja(\"Afi minn og amma mín\"))"
   ]
  },
  {
   "cell_type": "code",
   "execution_count": 5,
   "id": "dd43dca4-6b0b-4bd6-bc65-6a28cc77fded",
   "metadata": {},
   "outputs": [
    {
     "name": "stdout",
     "output_type": "stream",
     "text": [
      "[5, 4]\n"
     ]
    }
   ],
   "source": [
    "#1 með mínu nafni\n",
    "\n",
    "def telja(s):\n",
    "    ord = s.split()\n",
    "    stafatalning = []\n",
    "    for ord in ord: \n",
    "        stafatalning.append(len(ord))\n",
    "    return stafatalning\n",
    "print(telja(\"Donna Cruz\"))"
   ]
  },
  {
   "cell_type": "code",
   "execution_count": 6,
   "id": "c9e8339f-bb48-4505-a889-f06e100e707c",
   "metadata": {},
   "outputs": [
    {
     "name": "stdout",
     "output_type": "stream",
     "text": [
      "DONNA CRUZ!!!\n"
     ]
    }
   ],
   "source": [
    "#2 Hróp \n",
    "\n",
    "def hropa(s):\n",
    "    return s.upper() + \"!!!\"\n",
    "\n",
    "print(hropa(\"Donna Cruz\"))"
   ]
  },
  {
   "cell_type": "code",
   "execution_count": 11,
   "id": "0c9e1846-e560-4940-a49e-54be8d43f5f0",
   "metadata": {},
   "outputs": [
    {
     "name": "stdout",
     "output_type": "stream",
     "text": [
      "[True, True, False, False, False, False, False, False, False, True, True]\n"
     ]
    }
   ],
   "source": [
    "#3 Ath hvor stafur c sé með hástaf\n",
    "\n",
    "def storir(s):\n",
    "    ord = s.split()\n",
    "    result = []\n",
    "    for ord in ord:\n",
    "        if ord[0] == ord[0].upper():\n",
    "            result.append(True)\n",
    "        else:\n",
    "            result.append(False)\n",
    "    return result\n",
    "\n",
    "print(storir(\"Donna Cruz er frægust og bestust og lék í Agnes Joy\"))"
   ]
  },
  {
   "cell_type": "markdown",
   "id": "cd437589-7932-4773-9e4e-ec589a5df656",
   "metadata": {},
   "source": [
    "### Verkefni 10. Töluleg Difrun\n",
    "\n",
    "1) Eftirfarandi formúlu má nota til að nálga afleiðu falls í punkti 𝑎:\n",
    "𝑓′(𝑎)≈𝑓(𝑎+ℎ)−𝑓(𝑎−ℎ)/2ℎ\n",
    "\n",
    "þar sem ℎ er lítil tala. Skrifið fall töldiff(f, a, h) sem reiknar slíka nálgun og skilar henni. \n",
    "Prófið með 𝑓(𝑥)=𝑥‾‾√, 𝑎=4 og ℎ=10−4\n",
    " (sem ætti að skila tölu sem er nálægt 124√).\n",
    "\n",
    "2) Skrifið nú töflu yfir nálgunina fyrir ℎ=10−𝑘,𝑘=1,...10,\n",
    " og látið fylgja með dálk sem sýnir hve skekkjan er mikil. Merkið með ∗\n",
    " línuna þar sem skekkjan er minnst."
   ]
  },
  {
   "cell_type": "code",
   "execution_count": 13,
   "id": "3711fba6-7304-487a-89ce-dea71d4faea2",
   "metadata": {},
   "outputs": [
    {
     "name": "stdout",
     "output_type": "stream",
     "text": [
      "0.2500000000205116\n"
     ]
    }
   ],
   "source": [
    "# 1. Skrifa fall töludiff sem reiknar nálgun og skilar henni.\n",
    "\n",
    "def toludiff(f, a, h):\n",
    "    return(f(a+h) - f(a-h)) / (2*h)\n",
    "\n",
    "# Testa fallið með gildi f(x) = √x, a = 4, h = 10**-4\n",
    " \n",
    "def f(x):\n",
    "    return x**0.5\n",
    "\n",
    "a = 4\n",
    "h = 10**-4\n",
    "\n",
    "print(toludiff(f, a, h))"
   ]
  },
  {
   "cell_type": "code",
   "execution_count": 138,
   "id": "d2757e7b-a7be-4940-ba7e-ee6377c003a9",
   "metadata": {},
   "outputs": [
    {
     "name": "stdout",
     "output_type": "stream",
     "text": [
      "h \t         approximation \t        error\n",
      "1.0e-01 \t 0.25001953659254283\t1.7499804634074572\n",
      "1.0e-02 \t 0.2500001953130382\t1.7499998046869618\n",
      "1.0e-03 \t 0.25000000195318783\t1.7499999980468122\n",
      "1.0e-04 \t 0.2500000000205116\t1.7499999999794884\n",
      "1.0e-05 \t 0.2500000000016378\t1.7499999999983622\n",
      "1.0e-06 \t 0.2499999999239222\t1.7500000000760778\n",
      "1.0e-07 \t 0.24999999959085528\t1.7500000004091447\n",
      "1.0e-08 \t 0.249999987378402\t1.750000012621598\n",
      "1.0e-09 \t 0.25000002068509275\t1.7499999793149073\n",
      "1.0e-10 \t 0.25000002068509275\t1.7499999793149073\n",
      "\n",
      "Minnsta skekkja: 1.7499804634074572\n",
      "Minnsta skekkja gerist á h = 0.1\n"
     ]
    }
   ],
   "source": [
    "import math\n",
    "\n",
    "def toludiff(f, a, h):\n",
    "    return(f(a+h) - f(a-h)) / (2*h)\n",
    "\n",
    "def f(x):\n",
    "    return x**0.5\n",
    "\n",
    "a = 4\n",
    "exact = f(a)\n",
    "\n",
    "print(\"h \\t         approximation \\t        error\")\n",
    "for k in range(1, 11):\n",
    "    h = 10**(-k)\n",
    "    approx = toludiff(f, a, h)\n",
    "    error = abs(approx - exact)\n",
    "    print(f\"{h:.1e} \\t {approx:}\\t{error:}\")\n",
    "    \n",
    "#Finna hvar minnsta skekkjan er og hvar hún gerist \n",
    "\n",
    "minnsta_error = float(\"inf\")\n",
    "minnsta_h = 0\n",
    "for k in range(1,11):\n",
    "    h = 10**(-k)\n",
    "    approx = toludiff(f, a, h)\n",
    "    exact = f(a)\n",
    "    error = abs(approx - exact)\n",
    "    if error < minnsta_error:\n",
    "        minnsta_error = error\n",
    "        minnsta_h = h\n",
    "print(\"\")\n",
    "print(f\"Minnsta skekkja: {minnsta_error}\")\n",
    "print(f\"Minnsta skekkja gerist á h = {minnsta_h}\")"
   ]
  },
  {
   "cell_type": "markdown",
   "id": "187e1d5a-907c-482f-80ac-7bbc9887d610",
   "metadata": {},
   "source": [
    "### Verkefni 11\n",
    "\n",
    "Hugsum okkur að ísl_ens sé uppflettitafla sem geymir íslensk-enska orðabók. Hún gæti t.d.\n",
    "innihaldið pörin:\n",
    "\n",
    "\"reipi\" → \"rope\"\n",
    "\"hús\" → \"house\" \n",
    "og\n",
    "\"rauður\" → \"red\".\n",
    "\n",
    "Ef við vilum búa til ensk-íslenska orðabók gætum við snúið töflunni við og fengið pörin\n",
    "\"rope\" → \"reipi\"\n",
    "\"house\" → \"hús\" o.s.frv.\n",
    "\n",
    "1. Skrifið fall snúavið(U) sem snýr uppflettitöflu við á þennan hátt og skilar viðsnúnu töflunni. Gerið ráð fyrir að taflan U hafi hvergi sama gildi fyrir tvo mismunandi lykla. Prófið með orðaskránni að framan og búið til ens_ísl.\n",
    "\n",
    "2. nýja útgáfu af fallinu, snúavið2(U), sem er ekki með slíkri einkvæmnitakmörkun. Það á að skila nýrri uppflettitöflu V sem er þannig að ef g er gildi svarandi til tveggja mismunandi lykla, U[x] = U[y] = g þá á gildi V fyrir lykilinn g að vera listi með x og y, V[g] = [x,y]. Bætið nú tveimur pörum við ísl_ens:\n",
    "\n",
    "\"tómarúm\" → \"vaccum\"\n",
    "\"ryksuga\" → \"vaccum\"\n",
    "\n",
    "og prófið snúavið2."
   ]
  },
  {
   "cell_type": "code",
   "execution_count": 147,
   "id": "5333a6df-e59b-4a9e-9a9a-3edae0a87486",
   "metadata": {},
   "outputs": [
    {
     "name": "stdout",
     "output_type": "stream",
     "text": [
      "{'rope': 'reipi', 'house': 'hus', 'red': 'raudur'}\n"
     ]
    }
   ],
   "source": [
    "#1 Fall sem snýr upflettitöflu og skilar inn viðsnúnatöflu\n",
    "def snuavid(U):\n",
    "    return {v1: k1 for k1, v1 in U.items()}\n",
    "\n",
    "isl_ensk = {\"reipi\": \"rope\", \"hus\": \"house\",\"raudur\": \"red\"}\n",
    "            \n",
    "ensk_isl = snuavid(isl_ensk)\n",
    "print(ensk_isl)"
   ]
  },
  {
   "cell_type": "code",
   "execution_count": 156,
   "id": "26ff2e01-b140-44c9-abb1-b24d893b4ec4",
   "metadata": {},
   "outputs": [
    {
     "name": "stdout",
     "output_type": "stream",
     "text": [
      "{'rope': ['reipi'], 'house': ['hús'], 'red': ['rauður'], 'vaccum': ['tómarúm', 'ryksuga'], 'row': ['róa', 'röð'], 'tear': ['tár', 'rífa']}\n"
     ]
    }
   ],
   "source": [
    "# Ný útgáfa - snuavid2(U) \n",
    "\n",
    "def snuavid2(U):\n",
    "    V = {}\n",
    "    for k, v in U.items():\n",
    "        if v in V:\n",
    "            V[v].append(k)\n",
    "        else:\n",
    "            V[v] = [k]\n",
    "    return V\n",
    "\n",
    "#Bætti við 2x pörum inn röð:row, róa:row og tár:tear, rífa:tear\n",
    "\n",
    "isl_ensk = {\"reipi\" : \"rope\", \"hús\" : \"house\", \"rauður\" : \"red\", \"tómarúm\" : \"vaccum\",\n",
    "            \"ryksuga\" : \"vaccum\", \"róa\": \"row\", \"röð\": \"row\", \"tár\": \"tear\", \"rífa\": \"tear\"}\n",
    "ensk_isl = snuavid2(isl_ensk)\n",
    "print(ensk_isl)\n"
   ]
  },
  {
   "cell_type": "code",
   "execution_count": null,
   "id": "569d1480-9e7c-4d79-9279-22a40b4c85ac",
   "metadata": {},
   "outputs": [],
   "source": []
  }
 ],
 "metadata": {
  "kernelspec": {
   "display_name": "Python 3 (ipykernel)",
   "language": "python",
   "name": "python3"
  },
  "language_info": {
   "codemirror_mode": {
    "name": "ipython",
    "version": 3
   },
   "file_extension": ".py",
   "mimetype": "text/x-python",
   "name": "python",
   "nbconvert_exporter": "python",
   "pygments_lexer": "ipython3",
   "version": "3.10.8"
  }
 },
 "nbformat": 4,
 "nbformat_minor": 5
}
