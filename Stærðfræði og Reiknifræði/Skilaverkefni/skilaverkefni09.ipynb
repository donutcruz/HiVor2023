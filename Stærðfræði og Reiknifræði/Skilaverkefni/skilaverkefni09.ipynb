{
 "cells": [
  {
   "cell_type": "markdown",
   "id": "d39634c4-44dc-475f-a237-d0f5aabc5c6f",
   "metadata": {},
   "source": [
    "# Skilaverkefni09. Stærð- og Reiknifræði REI201G\n",
    "### Donn Eunice Bartido deb5@hi.is \n",
    "mars 2023\n"
   ]
  },
  {
   "cell_type": "markdown",
   "id": "7948ad23-eb80-49c8-9adf-72983684bf0e",
   "metadata": {},
   "source": [
    "## Lausn 35. Póker"
   ]
  },
  {
   "cell_type": "code",
   "execution_count": 2,
   "id": "4d6d25f3-dd64-47c1-8789-a31196bae807",
   "metadata": {},
   "outputs": [
    {
     "name": "stdout",
     "output_type": "stream",
     "text": [
      "Hlutfall með tvær tvennur: 4.7%\n"
     ]
    }
   ],
   "source": [
    "from random import sample\n",
    "\n",
    "def pókerhönd():\n",
    "  stokkur = [(i,j) for i in range(1,5) for j in range(1,14)]\n",
    "  return sample(stokkur, 5)\n",
    "\n",
    "def með_tvær_tvennur(hönd):\n",
    "  # Skilar sönnu ef hönd geymir tvær tvennur\n",
    "  gildi = [spil[1] for spil in hönd]\n",
    "  M = set(gildi)                 # búa til mengi\n",
    "  if len(M) != 3:\n",
    "    return False                 # það verða að vera 3 gildi\n",
    "  for spil in M:\n",
    "    talning = gildi.count(spil)\n",
    "    if talning > 2: return False # og ekkert spil má koma 3svar\n",
    "  return True                    # það eru tvær tvennur!\n",
    "\n",
    "def hlutfall_með_2x2(n):\n",
    "  talning = 0\n",
    "  for i in range(n):\n",
    "    hönd = pókerhönd()\n",
    "    if með_tvær_tvennur(hönd):\n",
    "      talning += 1\n",
    "  return talning/n\n",
    "\n",
    "hf = hlutfall_með_2x2(100000)\n",
    "print(f'Hlutfall með tvær tvennur: {hf*100:.1f}%')"
   ]
  },
  {
   "cell_type": "markdown",
   "id": "413ce0d8-ce45-4b7d-bd43-91d0aef646cd",
   "metadata": {},
   "source": [
    "### Lausn 35.1 - tvenna"
   ]
  },
  {
   "cell_type": "code",
   "execution_count": 130,
   "id": "58bbf2c3-ff9c-4bd3-9552-cdea76470f63",
   "metadata": {},
   "outputs": [
    {
     "data": {
      "text/plain": [
       "True"
      ]
     },
     "execution_count": 130,
     "metadata": {},
     "output_type": "execute_result"
    }
   ],
   "source": [
    "# Lausn við 35.1 Kannar hvort að hönd geymi tvennu\n",
    "\n",
    "def ertvenna(hönd):\n",
    "# Skilar sönnu ef hönd geymir tvær tvennur\n",
    "    gildi = [spil[1] for spil in hönd]\n",
    "    M = set(gildi)  # búa til mengi\n",
    "    if len(M) == 4:\n",
    "        for spil in M:\n",
    "            talning = gildi.count(spil)\n",
    "            if talning == 2: \n",
    "                return True # ekkert spil má koma 3svar\n",
    "    return False   \n",
    "\n",
    "\n",
    "ertvenna(pókerhönd())"
   ]
  },
  {
   "cell_type": "markdown",
   "id": "8bd83777-0099-48ac-ad3f-f1c68e7437f5",
   "metadata": {},
   "source": [
    "### Lausn 31.2 - Þrenna"
   ]
  },
  {
   "cell_type": "code",
   "execution_count": 137,
   "id": "9f01c0f9-dbc0-45bd-9f4a-4bf4142cf49c",
   "metadata": {},
   "outputs": [
    {
     "data": {
      "text/plain": [
       "False"
      ]
     },
     "execution_count": 137,
     "metadata": {},
     "output_type": "execute_result"
    }
   ],
   "source": [
    "# Lausn við 35.2 Kannar hvort að hönd geymi þrennu\n",
    "\n",
    "def er_Þrenna(hönd):\n",
    "# Skilar sönnu ef hönd geymir þrennu\n",
    "    gildi = [spil[1] for spil in hönd]\n",
    "    M = set(gildi)  # búa til mengi\n",
    "    if len(M) == 3:\n",
    "        for spil in M:\n",
    "            talning = gildi.count(spil)\n",
    "            if talning == 3: \n",
    "                return True # ekkert spil má koma 4svar\n",
    "    return False   \n",
    "\n",
    "\n",
    "er_Þrenna(pókerhönd())"
   ]
  },
  {
   "cell_type": "markdown",
   "id": "97418245-1449-4d55-83ad-bd6e756402b5",
   "metadata": {},
   "source": [
    "### Lausn 31.3 - Fullt hús"
   ]
  },
  {
   "cell_type": "code",
   "execution_count": 152,
   "id": "cc0fdc53-18c2-4f99-868f-901a53ab0da2",
   "metadata": {},
   "outputs": [
    {
     "data": {
      "text/plain": [
       "False"
      ]
     },
     "execution_count": 152,
     "metadata": {},
     "output_type": "execute_result"
    }
   ],
   "source": [
    "def er_fullt_hus(hönd):\n",
    "# Skilar sönnu ef hönd geymir þrennu\n",
    "    gildi = [spil[1] for spil in hönd]\n",
    "    M = set(gildi)  # búa til mengi\n",
    "    if len(M) == 2:\n",
    "        for spil in M:\n",
    "            talning = [gildi.count(i) for i in M]\n",
    "            if ( 2 in talning and 3 in talning):\n",
    "                return True \n",
    "    return False   \n",
    "\n",
    "\n",
    "er_fullt_hus(pókerhönd())"
   ]
  },
  {
   "cell_type": "markdown",
   "id": "747b3b74-8fe9-4e61-80ae-8c2167ceacd8",
   "metadata": {},
   "source": [
    "### Lausn 35.4 - lit (t.d eintómir spaðar) "
   ]
  },
  {
   "cell_type": "code",
   "execution_count": 135,
   "id": "98c156d2-0f9b-4fab-8030-3f1be263fbf0",
   "metadata": {},
   "outputs": [
    {
     "data": {
      "text/plain": [
       "False"
      ]
     },
     "execution_count": 135,
     "metadata": {},
     "output_type": "execute_result"
    }
   ],
   "source": [
    "def er_eintom_lit(hönd):\n",
    "# Skilar sönnu ef hönd geymir eintóm lit af spilastokk - t.d eintómir spaðar \n",
    "    gildi = [spil[0] for spil in hönd]\n",
    "    M = set(gildi)  # búa til mengi\n",
    "    if len(M) == 1:\n",
    "        return True\n",
    "    return False   \n",
    "\n",
    "\n",
    "er_eintom_lit(pókerhönd())"
   ]
  },
  {
   "cell_type": "markdown",
   "id": "17c9954e-d696-4381-8365-418660833a3c",
   "metadata": {},
   "source": [
    "### Lausn 35.5 Hermið slíkar hendur "
   ]
  },
  {
   "cell_type": "code",
   "execution_count": 154,
   "id": "bf2ee86a-06bf-4e2b-bb10-7c273382a2e2",
   "metadata": {},
   "outputs": [
    {
     "name": "stdout",
     "output_type": "stream",
     "text": [
      "Hlutfall með tvennu: 42.322%\n",
      "Hlutfall með þrennu: 2.148%\n",
      "Hlutfall með fullt hús: 0.144%\n",
      "Hlutfall með eintóma lit: 0.198%\n"
     ]
    }
   ],
   "source": [
    "def hlutfall(n):\n",
    "    tvennur = 0 \n",
    "    þremur = 0 \n",
    "    fullt_hus = 0\n",
    "    litur = 0\n",
    "    \n",
    "    for i in range(n): \n",
    "        if ertvenna(pókerhönd()):\n",
    "            tvennur += 1\n",
    "        if er_Þrenna(pókerhönd()):\n",
    "            þremur +=1\n",
    "        if er_fullt_hus(pókerhönd()):\n",
    "            fullt_hus +=1\n",
    "        if er_eintom_lit(pókerhönd()):\n",
    "            litur += 1\n",
    "    return tvennur, þremur, fullt_hus, litur\n",
    "\n",
    "first, second, third, fourth = hlutfall(1000000)\n",
    "\n",
    "print(f'Hlutfall með tvennu: {first/10000:.3f}%')\n",
    "print(f'Hlutfall með þrennu: {second/10000:.3f}%')\n",
    "print(f'Hlutfall með fullt hús: {third/10000:.3f}%')\n",
    "print(f'Hlutfall með eintóma lit: {fourth/10000:.3f}%')"
   ]
  },
  {
   "cell_type": "markdown",
   "id": "3d67d1e3-b9eb-421a-8431-4aaa29a5b816",
   "metadata": {},
   "source": [
    "## Lausn 36. Stærð Jarðskjálfta"
   ]
  },
  {
   "cell_type": "markdown",
   "id": "ae179eda-5a0a-4609-898a-aac0c715e723",
   "metadata": {},
   "source": [
    "### Lausn 36.1 \n",
    "\n",
    "Skrifið fall sem reiknar (og skilar) stærð jarðskjálfta fyrir gefið vægi. Hafið skjölunarstreng með. \n",
    "- Prófið með 𝑀0=1016 sem á að skila 𝑀=4.6\n"
   ]
  },
  {
   "cell_type": "code",
   "execution_count": 155,
   "id": "7f72109b-605b-41d6-ba46-78a8e798c010",
   "metadata": {},
   "outputs": [
    {
     "name": "stdout",
     "output_type": "stream",
     "text": [
      "4.6\n"
     ]
    }
   ],
   "source": [
    "from math import log10, e\n",
    "import pandas as pd\n",
    "\n",
    "def skjalfti(M0):\n",
    "    M = 2/3 * (log10(M0)- 9.1)\n",
    "    return M\n",
    "print(skjalfti(1e16))\n",
    "    "
   ]
  },
  {
   "attachments": {
    "3b46bf0c-aa9c-4e7b-b0d5-c241a09eff63.png": {
     "image/png": "[encoded data removed]"
    }
   },
   "cell_type": "markdown",
   "id": "4011014a-0aa4-44af-81c7-0970110dd41d",
   "metadata": {},
   "source": [
    "### Lausn 36.2\n",
    "\n",
    "20. október 2020 varð stór jarðskjálfti nálægt Krýsuvík. Á netinu má finna þrjár mælingar á orku skjálftans frá þremur alþjóðlegum jarðskjálftamiðstöðvum:\n",
    "\n",
    "![Screenshot 2023-03-11 at 21.18.20.png](attachment:3b46bf0c-aa9c-4e7b-b0d5-c241a09eff63.png)\n",
    "\n",
    "Skrifið forrit sem býr til uppflettitöflu stærð með orku jarðskjálftanna skv. miðstöðvunum þremur (þannig t.d. að stærð[\"USGS\"] sé 3.20e17), og skrifar í framhaldi út töflu yfir niðurstöðuna sem byrjar svona:"
   ]
  },
  {
   "cell_type": "code",
   "execution_count": 165,
   "id": "444adfc7-6bde-494b-afd5-d4c83809c104",
   "metadata": {},
   "outputs": [
    {
     "data": {
      "text/html": [
       "<div>\n",
       "<style scoped>\n",
       "    .dataframe tbody tr th:only-of-type {\n",
       "        vertical-align: middle;\n",
       "    }\n",
       "\n",
       "    .dataframe tbody tr th {\n",
       "        vertical-align: top;\n",
       "    }\n",
       "\n",
       "    .dataframe thead th {\n",
       "        text-align: right;\n",
       "    }\n",
       "</style>\n",
       "<table border=\"1\" class=\"dataframe\">\n",
       "  <thead>\n",
       "    <tr style=\"text-align: right;\">\n",
       "      <th></th>\n",
       "      <th>Miðstöð</th>\n",
       "      <th>Land</th>\n",
       "      <th>M0</th>\n",
       "      <th>Stærð</th>\n",
       "    </tr>\n",
       "  </thead>\n",
       "  <tbody>\n",
       "    <tr>\n",
       "      <th>0</th>\n",
       "      <td>USGS</td>\n",
       "      <td>Bandaríkin</td>\n",
       "      <td>3.300000e+17</td>\n",
       "      <td>5.574932</td>\n",
       "    </tr>\n",
       "    <tr>\n",
       "      <th>1</th>\n",
       "      <td>GCMT</td>\n",
       "      <td>Bandaríkin</td>\n",
       "      <td>3.290000e+17</td>\n",
       "      <td>5.574932</td>\n",
       "    </tr>\n",
       "    <tr>\n",
       "      <th>2</th>\n",
       "      <td>GFZ</td>\n",
       "      <td>Þýskaland</td>\n",
       "      <td>2.900000e+17</td>\n",
       "      <td>5.574932</td>\n",
       "    </tr>\n",
       "  </tbody>\n",
       "</table>\n",
       "</div>"
      ],
      "text/plain": [
       "  Miðstöð        Land            M0     Stærð\n",
       "0    USGS  Bandaríkin  3.300000e+17  5.574932\n",
       "1    GCMT  Bandaríkin  3.290000e+17  5.574932\n",
       "2     GFZ   Þýskaland  2.900000e+17  5.574932"
      ]
     },
     "execution_count": 165,
     "metadata": {},
     "output_type": "execute_result"
    }
   ],
   "source": [
    "data = [[\"USGS\", \"Bandaríkin\", 3.30 * 1e17],[\"GCMT\",\"Bandaríkin\",3.29 * 1e17],[\"GFZ\", \"Þýskaland\", 2.90 * 1e17 ]]\n",
    "\n",
    "df = pd.DataFrame(data, columns= [\"Miðstöð\", \"Land\", \"M0\"])\n",
    "for i in df[\"M0\"]:\n",
    "    df[\"Stærð\"] = skjalfti(i)\n",
    "    \n",
    "df\n"
   ]
  },
  {
   "cell_type": "markdown",
   "id": "2923016b-d153-410b-9459-13c8815ea8b1",
   "metadata": {},
   "source": [
    "## 37. Valkvæðir Stikar"
   ]
  },
  {
   "cell_type": "code",
   "execution_count": 162,
   "id": "a8a0fb57-54c1-4c14-951d-857a35c58530",
   "metadata": {},
   "outputs": [
    {
     "name": "stdout",
     "output_type": "stream",
     "text": [
      "rætur: 4.0 og 2.0\n"
     ]
    }
   ],
   "source": [
    "import math\n",
    "def rót(x, n=2):  # skilar n-tu rót (n=2 er sjálfgefið)\n",
    "   return x**(1/n)\n",
    "\n",
    "a = rót(16)\n",
    "b = rót(16, 4)\n",
    "print(f\"rætur: {a} og {b}\")"
   ]
  },
  {
   "cell_type": "markdown",
   "id": "59520d04-b319-4d6a-b1ca-1d6114b6c1bb",
   "metadata": {},
   "source": [
    "### Lausn 37.1"
   ]
  },
  {
   "cell_type": "code",
   "execution_count": 174,
   "id": "7b76c461-db10-466f-8680-21dd9837b654",
   "metadata": {},
   "outputs": [
    {
     "data": {
      "text/html": [
       "<div>\n",
       "<style scoped>\n",
       "    .dataframe tbody tr th:only-of-type {\n",
       "        vertical-align: middle;\n",
       "    }\n",
       "\n",
       "    .dataframe tbody tr th {\n",
       "        vertical-align: top;\n",
       "    }\n",
       "\n",
       "    .dataframe thead th {\n",
       "        text-align: right;\n",
       "    }\n",
       "</style>\n",
       "<table border=\"1\" class=\"dataframe\">\n",
       "  <thead>\n",
       "    <tr style=\"text-align: right;\">\n",
       "      <th></th>\n",
       "      <th>x</th>\n",
       "      <th>a</th>\n",
       "      <th>log_a(x)</th>\n",
       "    </tr>\n",
       "  </thead>\n",
       "  <tbody>\n",
       "    <tr>\n",
       "      <th>0</th>\n",
       "      <td>100</td>\n",
       "      <td>10</td>\n",
       "      <td>2</td>\n",
       "    </tr>\n",
       "    <tr>\n",
       "      <th>1</th>\n",
       "      <td>243</td>\n",
       "      <td>3</td>\n",
       "      <td>5</td>\n",
       "    </tr>\n",
       "    <tr>\n",
       "      <th>2</th>\n",
       "      <td>128</td>\n",
       "      <td>2</td>\n",
       "      <td>7</td>\n",
       "    </tr>\n",
       "  </tbody>\n",
       "</table>\n",
       "</div>"
      ],
      "text/plain": [
       "     x   a  log_a(x)\n",
       "0  100  10         2\n",
       "1  243   3         5\n",
       "2  128   2         7"
      ]
     },
     "execution_count": 174,
     "metadata": {},
     "output_type": "execute_result"
    }
   ],
   "source": [
    "from math import log\n",
    "\n",
    "def lnrót(x,a):\n",
    "    return round (log(x)/log(a))\n",
    "lnrót(100,10)\n",
    "lnrót(243,3)\n",
    "lnrót(128,2)\n",
    "\n",
    "data = [[100,10, lnrót(100,10)],[243,3, lnrót(243,3)], [128,2, lnrót(128,2)]]\n",
    "df = pd.DataFrame(data, columns= [\"x\", \"a\", \"log_a(x)\"])\n",
    "\n",
    "df\n",
    "    "
   ]
  },
  {
   "cell_type": "markdown",
   "id": "30407e0b-c66d-419b-a6a8-adcc21070a38",
   "metadata": {},
   "source": [
    "### Lausn 37.2"
   ]
  },
  {
   "cell_type": "code",
   "execution_count": 189,
   "id": "8e70d4aa-65d4-40d3-9573-4151798635ce",
   "metadata": {},
   "outputs": [
    {
     "name": "stdout",
     "output_type": "stream",
     "text": [
      "Upphaflegar tölur: [[1.0, 2.718281828459045, 7.38905609893065, 20.085536923187668, 54.598150033144236, 148.4131591025766]]\n",
      "Nauk með 4 [1.0, 2.7183, 7.3891, 20.0855, 54.5982, 148.4132]\n"
     ]
    }
   ],
   "source": [
    "from math import exp\n",
    "\n",
    "tolur = [math.exp(x) for x in range(6)]\n",
    "print(\"Upphaflegar tölur:\", lala)\n",
    "\n",
    "def nauk(listi):\n",
    "    listi1 = [float(f\"{num:.4f}\") for num in listi]\n",
    "    return listi1\n",
    "print(\"Nauk með 4\", nauk(tolur))\n"
   ]
  },
  {
   "cell_type": "code",
   "execution_count": null,
   "id": "51f56e1b-7860-4fb4-8f38-c90b8355f1ad",
   "metadata": {},
   "outputs": [],
   "source": []
  }
 ],
 "metadata": {
  "kernelspec": {
   "display_name": "Python 3 (ipykernel)",
   "language": "python",
   "name": "python3"
  },
  "language_info": {
   "codemirror_mode": {
    "name": "ipython",
    "version": 3
   },
   "file_extension": ".py",
   "mimetype": "text/x-python",
   "name": "python",
   "nbconvert_exporter": "python",
   "pygments_lexer": "ipython3",
   "version": "3.10.8"
  }
 },
 "nbformat": 4,
 "nbformat_minor": 5
}
