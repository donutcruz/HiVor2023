{
 "cells": [
  {
   "cell_type": "markdown",
   "id": "0f0d4069-f7d9-4c3f-bb0f-ff9e0f2006e3",
   "metadata": {},
   "source": [
    "# Skilaverkefni03. Stærð- og Reiknifræði REI201G\n",
    "### Donn Eunice Bartido deb5@hi.is \n",
    "Janúar 2023\n"
   ]
  },
  {
   "cell_type": "markdown",
   "id": "7b62bd7f-ff82-4fa9-8f73-6304d83bf727",
   "metadata": {},
   "source": [
    "### Verkefni 12: Shell-röðun"
   ]
  },
  {
   "cell_type": "markdown",
   "id": "1e524fca-409d-40dc-828c-1a0a857916ab",
   "metadata": {},
   "source": [
    "Skrifið Python-fall sem Shell-raðar. Byrjið á að leysa verkefni 9 ef þið eruð ekki þegar búin að því. Það er hægt að nota heiltöludeilingu (//) til að reikna bil og hlutrunan í neðstu línunni fæst með a[i:N:bil]. Byggið á reikniritinu að framan (og alls ekki ná í tilbúið forrit af netinu). Prófið að raða listunum [8,3,2] og [8,5,1,9,6,2,1,7,11,3], og auk þess einum sjálfvöldum lista með 12 tveggja stafa tölum."
   ]
  },
  {
   "cell_type": "markdown",
   "id": "d97f521d-6d6e-4bd1-a60f-c57ed5df3571",
   "metadata": {},
   "source": [
    "#### Lausn"
   ]
  },
  {
   "cell_type": "code",
   "execution_count": 2,
   "id": "a97f9cb1-74f2-4e45-aeff-c3fc773df2ff",
   "metadata": {},
   "outputs": [
    {
     "name": "stdout",
     "output_type": "stream",
     "text": [
      "[2, 3, 8]\n",
      "[1, 1, 2, 3, 5, 6, 7, 8, 9, 11]\n",
      "[11, 13, 18, 29, 40, 44, 58, 67, 67, 71, 77, 92]\n"
     ]
    }
   ],
   "source": [
    "def insertsort(A):\n",
    "  i = 1\n",
    "  while i < len(A):\n",
    "    j = i\n",
    "    while j > 0 and A[j-1] > A[j]:\n",
    "        A[j-1],A[j] = A[j],A[j-1]\n",
    "        j -= 1\n",
    "    i += 1\n",
    "  return A\n",
    "\n",
    "\n",
    "def shellsort(a):\n",
    "  k = 1\n",
    "  N = len(a)\n",
    "  while(True):\n",
    "    bil = N//2**k\n",
    "    k+= 1\n",
    "    if bil < 1:\n",
    "      break\n",
    "    for i in range(bil):\n",
    "      b = insertsort(a[i:N:bil])   \n",
    "  return b\n",
    "\n",
    "print(shellsort([8,3,2]))\n",
    "print(shellsort([8,5,1,9,6,2,1,7,11,3]))\n",
    "print(shellsort([67, 92, 18, 44, 67, 71, 77, 58, 29, 40, 11, 13]))"
   ]
  },
  {
   "cell_type": "markdown",
   "id": "b33fe75f-06ad-48a8-97c8-b18a0e92eefd",
   "metadata": {},
   "source": [
    "### Verkefni 13: Skrá með íslenskum orðum\n",
    "\n",
    "Þetta verkefni er lauslega byggt á verkefnum í 9. kafla Think Python kennslubókarinnar. Í skrá með veffang https://cs.hi.is/python/ord.txt eru 217 þúsund íslensk orð. Þið getið skoðað skrána með því að smella á hlekkinn. Í verkefninu sem hér fylgir þarf að nota ýmsar strengjaaðgerðir sem lýst er í kafla 5.2.\n",
    "\n",
    "1.Opnið skrána með urlopen og lesið hana inn eins og sýnt er í kafla 8.2.4. Prentið út fyrstu 5 orðin og líka tíu þúsundasta hvert orð og öll orð sem eru lengri en 30 stafir.\n",
    "\n",
    "Leiðbeining\n",
    "\n",
    "Það er bara eitt orð á hverri línu sem hægt er að ná í með orð = lína.decode().strip()\n",
    "\n",
    "Athugasemd\n",
    "\n",
    "Í stað þess að nota urllib mætti lesa skrána inn með NumPy eins og fjallað er um í kafla 10.6.3. Þá er notað dtype=str í sjálfum innlestrinum, og síðan má nota tolist-aðferðina til að breyta innlesnum vigri í venjulegan lista af strengjum.\n",
    "\n",
    "2. Spegilorð (palindrome) er orð sem er eins lesið afturábak og áfram (t.d. kajak). Skrifið rökfall spegilorð(s) sem kannar hvort s sé spegilorð [rökfall er fall sem skilar True eða False og prófið. Skrifið í framhaldi út öll spegilorð í skránni, 10 á hverja línu. Fyrsta linan ætti að verða:\n",
    "\n",
    "abba, afa, aga, agga, aka, ala, alla, ama, amma, ana\n",
    "\n",
    "3. Finnið þau orð í skránni sem hafa einn sérhljóða og hámarksfjölda samhljóða"
   ]
  },
  {
   "cell_type": "markdown",
   "id": "ca04e682-d5ad-4371-934c-cec7aad20c30",
   "metadata": {
    "tags": []
   },
   "source": [
    "#### Lausn"
   ]
  },
  {
   "cell_type": "markdown",
   "id": "856633de-7adc-4700-8580-af3081045084",
   "metadata": {},
   "source": [
    "**1)**"
   ]
  },
  {
   "cell_type": "code",
   "execution_count": 6,
   "id": "49e36b5f-aac9-4e98-ab33-a8c23170ac0f",
   "metadata": {},
   "outputs": [
    {
     "name": "stdout",
     "output_type": "stream",
     "text": [
      "abba abbadís abbadísar abbadísarinnar abbadísartíð \n",
      "  3512 alþjóðaheilbrigðisstofnunarinnar\n",
      "  3574 alþjóðasiglingamálastofnunarinnar\n",
      "  5822 atvinnuleysistryggingasjóðurinn\n",
      " 10000 barónessunni\n",
      " 20000 bókmenntaheimurinn\n",
      " 30000 eldvarpa\n",
      " 39136 flugslysarannsóknarnefndarinnar\n",
      " 40000 flögrað\n",
      " 50000 galdrakerlingin\n",
      " 60000 hafnarverkamannsins\n",
      " 70000 hnýtta\n",
      " 80000 illkvittnislega\n",
      " 90000 konunglegan\n",
      "100000 leiðbeiningu\n",
      "110000 margnefndi\n",
      "120000 nemann\n",
      "121142 norðuratlantshafssjávarspendýraráðsins\n",
      "121175 norðurheimskautsrannsóknaráðsins\n",
      "130000 ramman\n",
      "140000 sandhólum\n",
      "150000 skynsemd\n",
      "160000 stjórnarþátttöku\n",
      "170000 sólarhofsins\n",
      "172917 teiknimyndaævintýrapoppálfkonan\n",
      "180000 tötralegum\n",
      "190000 veðurratsjá\n",
      "200000 árásargjörn\n",
      "210000 útdauðar\n"
     ]
    }
   ],
   "source": [
    "from urllib.request import urlopen\n",
    "f = urlopen(\"https://cs.hi.is/python/ord.txt\")\n",
    "ordList = []\n",
    "\n",
    "for line in f:\n",
    "   ordList.append(line.decode().strip())\n",
    "\n",
    "fimmOrd = \"\"\n",
    "for i in range(5):\n",
    "    fimmOrd += ordList[i] + \" \"\n",
    "\n",
    "print(fimmOrd)\n",
    "\n",
    "for k,i in enumerate(ordList, 1):\n",
    "    if k % 10000 == 0 or len(i) > 30:\n",
    "        print(f'{k:6}', i)"
   ]
  },
  {
   "cell_type": "markdown",
   "id": "6243e8d2-8758-4656-a2c2-48f4f61db3ef",
   "metadata": {},
   "source": [
    "**2)**"
   ]
  },
  {
   "cell_type": "code",
   "execution_count": 10,
   "id": "e0680d9b-cfe6-4bd7-91e5-deb1216c3584",
   "metadata": {},
   "outputs": [
    {
     "name": "stdout",
     "output_type": "stream",
     "text": [
      "abba, afa, aga, agga, aka, ala, alla, ama, amma, ana, \n",
      "argra, assa, ata, axa, aða, gíg, gýg, illi, inni, iðaði, \n",
      "kajak, kok, kák, kæk, kók, kúk, mm, muninum, munnum, munum, \n",
      "mussum, natan, nón, píp, rabbar, radar, raddar, rafar, ragar, rakar, \n",
      "rammar, rappar, rasar, rassar, ratar, raðar, rifir, riðir, ruddur, rullur, \n",
      "runur, rár, rær, rór, rör, rýr, sinnis, stúts, summus, sás, \n",
      "tillit, tæt, uku, ullu, undnu, unnu, unu, uxu, á, æ, \n",
      "ísí, ó, óbó, ódó, óró, ý, "
     ]
    }
   ],
   "source": [
    "def palindrome(s):\n",
    "    return (s==s[::-1])\n",
    "\n",
    "count = 0\n",
    "\n",
    "for i in ordList:\n",
    "    if palindrome(i):\n",
    "        if count == 10:\n",
    "            print()\n",
    "            count = 0\n",
    "        else:\n",
    "            print(i, end=\", \")\n",
    "            count +=1"
   ]
  },
  {
   "cell_type": "markdown",
   "id": "6400bafc-2386-4e68-a67d-6177a41c7861",
   "metadata": {},
   "source": [
    "**3)**"
   ]
  },
  {
   "cell_type": "code",
   "execution_count": 11,
   "id": "0969567b-20a2-4ed7-8e3c-4df05e49b43d",
   "metadata": {},
   "outputs": [
    {
     "name": "stdout",
     "output_type": "stream",
     "text": [
      "['bhmfólks', 'skrappst', 'skyggnst', 'strengst']\n"
     ]
    }
   ],
   "source": [
    "def longest(s):\n",
    "    vowels = ['a', 'á', 'e', 'é', 'i', 'í', 'o', 'ó', 'u', 'ú', 'y', 'ý', 'æ', 'ö']\n",
    "    longword = []\n",
    "    longest_word_length = 0\n",
    "    longest_words = []\n",
    "    for i in s:\n",
    "        word = i.lower()\n",
    "        count = sum(1 for char in word if char in vowels)\n",
    "        if count == 1:\n",
    "            longword.append(word)\n",
    "            word_length = len(word)\n",
    "            if word_length > longest_word_length:\n",
    "                longest_word_length = word_length\n",
    "    for word in longword:\n",
    "        if len(word) == longest_word_length:\n",
    "            longest_words.append(word)\n",
    "    print(longest_words)\n",
    "longest(ordList)"
   ]
  },
  {
   "cell_type": "markdown",
   "id": "ad1f1dd6-bd66-41a2-8d9e-08ab11d28649",
   "metadata": {},
   "source": [
    "#### Verkefni 15: Sameining nafnaskrár og einkunnaskrár \n",
    "\n",
    "Útbúnar hafa verið tvær skrár með gervigögnum: Sú fyrri, https://cs.hi.is/python/einkunn.txt inniheldur prófnúmer og einkunnir og sú seinni, https://cs.hi.is/python/nofn.txt, inniheldur prófnúmer og nöfn.\n",
    "\n",
    "1. **Skrá lesin**. Skrifið forrit sem les einkunnaskrána inn í uppflettitöflu (dictionary) eink_tafla þannig að eink_tafla[nr] gefi einkunn próftaka með prófnúmer nr sbr. dæmin í kafla 8.2.5. Prófið (t.d. með því að sýna úttakið sem skipunin print(eink_tafla) skilar).\n",
    "\n",
    "**Uppflettitafla.** Skráin nofn.txt byrjar svona:\n",
    "\n",
    "0176  Kjartan Valur Jónsson\n",
    "0542  Aðalheiður Pétursdóttir\n",
    "0970  Sigrún Ása Jónsdóttir\n",
    "Prófnúmerið er sem sé aðskilið frá nafninu með tveimur bilum og svo er nafnið ýmist með millinafni eða án. Til að höndla þetta er hægt að nota split með viðbótarviðfangi sem tilgreinir hve oft á að skipta. Ef lína er fyrsta línan í skránni mundi\n",
    "\n",
    "(nr,nafn) = lína.decode().strip().split(maxsplit=1)\n",
    "\n",
    "skipta strengnum rétt í tvo hluta, númer og nafn (strip() þarf að vera með hér til að losna við línuskiptatákn). Notið þetta trix til að lesa nafnaskrána inn í uppflettitöflu nafn_tafla sem nota má til að fletta upp á nafni útfrá prófnúmeri. Prófið með sama hætti og fyrr.\n",
    "\n",
    "3. **Úskrift lista.**  Skrifið forrit sem rennir í gegn um prófnúmerin í eink_tafla, flettir upp nafni hvers nemanda í nafn_tafla, og skrifar allt þrennt: prófnúmer, einkunn, og nafn í snyrtilegri töflu með fyrirsögnum og dálkum sem standast á.\n",
    "\n",
    "4. **Hæsta einkunn.** Skrifið loks forrit sem ákvarðar hver fékk hæstu einkunnina og skrifar nafn hans/hennar ásamt einkunninni (gera má ráð fyrir að það sé bara einn). Notið lykkju og uppfærið inni í lykkjunni, í hvert sinn sem einkunn er hærri en sú hæsta sem sést hefur, bæði hæstu einkunnina og nafn þess sem hana fékk. Forritið ætti að skrifa: Íris María Birgisdóttir var hæst með 10.0)."
   ]
  },
  {
   "cell_type": "code",
   "execution_count": 9,
   "id": "9729505a-9e57-4071-a47f-300cdfd3c161",
   "metadata": {},
   "outputs": [],
   "source": [
    "### Lausn"
   ]
  },
  {
   "cell_type": "markdown",
   "id": "cb148306-bb2a-4c1d-b37f-f324f3286d54",
   "metadata": {},
   "source": [
    "**1) og 2)**"
   ]
  },
  {
   "cell_type": "code",
   "execution_count": 16,
   "id": "c1d45f0d-a364-4d67-ae5d-2f29b4ebf81e",
   "metadata": {},
   "outputs": [
    {
     "name": "stdout",
     "output_type": "stream",
     "text": [
      "{'0176': '7.0', '0542': '8.0', '0970': '9.5', '1419': '6.5', '1577': '7.0', '2785': '9.0', '4218': '7.0', '4854': '9.0', '5469': '10.0', '6324': '6.5', '6558': '8.5', '7923': '5.5', '8003': '9.5', '8148': '5.0', '8492': '7.5', '9058': '7.5', '9134': '8.0', '9158': '8.0', '9340': '6.5', '9572': '8.0', '9576': '5.5', '9595': '8.5', '9649': '6.5', '9706': '9.0'}\n",
      "{'0176': 'Kjartan Valur Jónsson', '0542': 'Aðalheiður Pétursdóttir', '0970': 'Sigrún Ása Jónsdóttir', '1419': 'Erla Ýr Guðnadóttir', '1577': 'Hulda Ósk Jónasdóttir', '2785': 'Bjarki Már Sveinsson', '4218': 'Kristín Fjóludóttir', '4854': 'Anton Ingi Þórsson', '5469': 'Íris María Birgisdóttir', '6324': 'Ívar Sigurðsson', '6558': 'Ágúst Guðni Ingason', '7923': 'Steinunn Guðlaug Gunnarsdóttir', '8003': 'Eydís Þorsteinsdóttir', '8148': 'Signý Guðrún Pálsdóttir', '8492': 'Andri Oddur Steinarsson', '9058': 'Elías Ari Heimisson', '9134': 'Birta Lárusdóttir', '9158': 'Anna Sveinbjörnsdóttir', '9340': 'Bjarni Rúnar Kjartansson', '9572': 'Arna Þórisdóttir', '9576': 'Mark Johnson', '9595': 'Víðir Kristjánsson', '9649': 'Anna Kristinsdóttir', '9706': 'Jónas Valdimarsson'}\n"
     ]
    }
   ],
   "source": [
    "einkunnir = {}\n",
    "f = urlopen(\"https://cs.hi.is/python/einkunn.txt\")\n",
    "for line in f:\n",
    "    (tala, einkunn) = line.decode().strip().split()\n",
    "    einkunnir[tala] = einkunn\n",
    "print(einkunnir)\n",
    "\n",
    "nofn = {}\n",
    "f = urlopen(\"https://cs.hi.is/python/nofn.txt\")\n",
    "for line in f:\n",
    "    (tala,nafn) = line.decode().strip().split(maxsplit=1)\n",
    "    nofn[tala] = nafn\n",
    "print(nofn)\n"
   ]
  },
  {
   "cell_type": "markdown",
   "id": "845b9348-c18a-4afb-aff4-1ef9fb502150",
   "metadata": {},
   "source": [
    "**3)**"
   ]
  },
  {
   "cell_type": "code",
   "execution_count": 17,
   "id": "b1d755eb-9b30-4b8e-a5bb-d332fa9ed41e",
   "metadata": {},
   "outputs": [
    {
     "name": "stdout",
     "output_type": "stream",
     "text": [
      "0176 7.0 Kjartan Valur Jónsson\n",
      "0542 8.0 Aðalheiður Pétursdóttir\n",
      "0970 9.5 Sigrún Ása Jónsdóttir\n",
      "1419 6.5 Erla Ýr Guðnadóttir\n",
      "1577 7.0 Hulda Ósk Jónasdóttir\n",
      "2785 9.0 Bjarki Már Sveinsson\n",
      "4218 7.0 Kristín Fjóludóttir\n",
      "4854 9.0 Anton Ingi Þórsson\n",
      "5469 10.0 Íris María Birgisdóttir\n",
      "6324 6.5 Ívar Sigurðsson\n",
      "6558 8.5 Ágúst Guðni Ingason\n",
      "7923 5.5 Steinunn Guðlaug Gunnarsdóttir\n",
      "8003 9.5 Eydís Þorsteinsdóttir\n",
      "8148 5.0 Signý Guðrún Pálsdóttir\n",
      "8492 7.5 Andri Oddur Steinarsson\n",
      "9058 7.5 Elías Ari Heimisson\n",
      "9134 8.0 Birta Lárusdóttir\n",
      "9158 8.0 Anna Sveinbjörnsdóttir\n",
      "9340 6.5 Bjarni Rúnar Kjartansson\n",
      "9572 8.0 Arna Þórisdóttir\n",
      "9576 5.5 Mark Johnson\n",
      "9595 8.5 Víðir Kristjánsson\n",
      "9649 6.5 Anna Kristinsdóttir\n",
      "9706 9.0 Jónas Valdimarsson\n"
     ]
    }
   ],
   "source": [
    "for i in einkunnir:\n",
    "    print(i,einkunnir[i], nofn[i])"
   ]
  },
  {
   "cell_type": "markdown",
   "id": "e222a9d0-1afa-45f9-b358-dbf2b29b3a2b",
   "metadata": {},
   "source": [
    "**4)**"
   ]
  },
  {
   "cell_type": "code",
   "execution_count": 18,
   "id": "08194e6c-a4f1-469e-b1c7-b948223c0095",
   "metadata": {},
   "outputs": [
    {
     "name": "stdout",
     "output_type": "stream",
     "text": [
      "Íris María Birgisdóttir var með hæstu einkunn: 10.0\n"
     ]
    }
   ],
   "source": [
    "def highest(eink,nafn):\n",
    "    highestGrade = 0\n",
    "    highestName = 0\n",
    "    for i in eink:\n",
    "        if (float(eink[i]) > highestGrade):\n",
    "            highestGrade = float(eink[i])\n",
    "            highestName = i\n",
    "    print(f'{nafn[highestName]} var með hæstu einkunn: {highestGrade}')\n",
    "\n",
    "highest(einkunnir,nofn)"
   ]
  }
 ],
 "metadata": {
  "kernelspec": {
   "display_name": "Python 3 (ipykernel)",
   "language": "python",
   "name": "python3"
  },
  "language_info": {
   "codemirror_mode": {
    "name": "ipython",
    "version": 3
   },
   "file_extension": ".py",
   "mimetype": "text/x-python",
   "name": "python",
   "nbconvert_exporter": "python",
   "pygments_lexer": "ipython3",
   "version": "3.10.8"
  }
 },
 "nbformat": 4,
 "nbformat_minor": 5
}
