{
 "cells": [
  {
   "cell_type": "markdown",
   "id": "c1f395e8-61e4-4e53-ac94-672277fe5570",
   "metadata": {},
   "source": [
    "## 13.1 æfingadæmi\n",
    "Afritið forritið að ofan inn í vinnubók og keyrið það nokkrum sinnum. Breytið svo forritinu í fall, dragaspil() sem skilar streng með dregnu spili.\n",
    "\n",
    "1. Búið í framhaldi til forrit sem dregur fimm spil, sem er einmitt fjöldi spila í pókerhönd. Athugið að hér er smá svindl í gangi því það verður möguleiki á að draga sama spil tvisvar. Í kafla 13.5 verður ráðin bót á því.\n",
    "\n",
    "2. [Vinnist í samstarfi við kennara.] Búið til fall sem kannar hvort pókerhönd hafi tvær tvennur. Skrifið í famhaldi forrit sem finnur líkurnar á að fá tvær tvennur með hermun (þá eru dregnar margar hendur og athugað hve stórt hlutfall þeirra er hönd með tveim tvennum)."
   ]
  },
  {
   "cell_type": "code",
   "execution_count": 2,
   "id": "7ff08bfe-4124-46ae-8a90-98818347b742",
   "metadata": {},
   "outputs": [
    {
     "name": "stdout",
     "output_type": "stream",
     "text": [
      "The probability of getting two pairs in a five-card hand is approximately 0.0691\n"
     ]
    }
   ],
   "source": [
    "from random import shuffle\n",
    "\n",
    "def has_two_pairs(hand):\n",
    "    # Sort the hand by rank\n",
    "    hand.sort(key=lambda x: x[0])\n",
    "    \n",
    "    # Check if there are two pairs\n",
    "    pairs = 0\n",
    "    for i in range(len(hand) - 1):\n",
    "        if hand[i][0] == hand[i+1][0]:\n",
    "            pairs += 1\n",
    "    \n",
    "    return pairs == 2\n",
    "\n",
    "def simulate_two_pairs(num_hands):\n",
    "    deck = [(rank, suit) for rank in range(2, 15) for suit in range(4)]\n",
    "    num_two_pairs = 0\n",
    "    \n",
    "    for i in range(num_hands):\n",
    "        # Shuffle the deck\n",
    "        shuffle(deck)\n",
    "        \n",
    "        # Deal a five-card hand\n",
    "        hand = deck[:5]\n",
    "        \n",
    "        # Check if the hand has two pairs\n",
    "        if has_two_pairs(hand):\n",
    "            num_two_pairs += 1\n",
    "    \n",
    "    # Calculate the probability of getting two pairs\n",
    "    probability = num_two_pairs / num_hands\n",
    "    return probability\n",
    "\n",
    "# Example usage\n",
    "num_hands = 1000000\n",
    "probability = simulate_two_pairs(num_hands)\n",
    "print(f\"The probability of getting two pairs in a five-card hand is approximately {probability:.4f}\")\n"
   ]
  },
  {
   "cell_type": "markdown",
   "id": "7a6fbb9a-2351-4cee-93f1-74b7faba93b0",
   "metadata": {},
   "source": [
    "## 13.3 \n",
    "\n",
    "Afritið sýnidæmið að framan inn í vinnubók og breytið því svo og dragið:\n",
    "\n",
    "1. 4 \\times 4 fylki með tölum úr stöðluðu normaldreifingunni, N(0,1)\n",
    "\n",
    "2. vigur með 7 tölum í \\{2,4,6,\\ldots,100\\}\n",
    "\n",
    "3. 3 \\times 3 fylki með tölum á bilinu [2,5] með rng.random\n",
    "\n",
    "4. 3 \\times 3 fylki með tölum á bilinu [2,5] með rng.uniform\n",
    "\n",
    "Í lið 2 eru fyrst búnar til tölur í \\{1,2,\\ldots,50\\} og niðurstaðan margfölduð með 2, og í lið 3 er fyrst búið til fylki með tölum í [0,1] og svo þarf að margfalda með 3 og leggja 2 við."
   ]
  },
  {
   "cell_type": "code",
   "execution_count": 3,
   "id": "b9eace62-e448-441b-8389-4771efd1a249",
   "metadata": {},
   "outputs": [
    {
     "name": "stdout",
     "output_type": "stream",
     "text": [
      "[[-0.28751991 -1.19855335 -0.87121237 -0.3893416 ]\n",
      " [-0.59940561  1.09194885 -0.34079312  0.34661254]\n",
      " [-0.01846205  0.3099828   0.86985051  1.42375377]\n",
      " [-0.31349665  0.48628    -0.81314949  0.14611577]]\n",
      "[ 2  4  6  8 10 12 14]\n",
      "[[2.41645304 4.56257472 2.43825701]\n",
      " [2.47206946 2.38970953 2.71495975]\n",
      " [3.7573134  2.29491246 4.20709508]]\n",
      "[[3.31810076 3.8204354  3.52923033]\n",
      " [2.21463339 4.38729132 4.04318787]\n",
      " [4.19294494 2.6994723  2.63763692]]\n"
     ]
    }
   ],
   "source": [
    "import numpy as np\n",
    "\n",
    "# 4x4 array with numbers from standard normal distribution\n",
    "a = np.random.randn(4, 4)\n",
    "\n",
    "# vector with 7 even numbers from 2 to 100\n",
    "b = np.arange(2, 101, 2)[:7]\n",
    "\n",
    "# 3x3 array with random numbers from [2, 5]\n",
    "c = np.random.random((3, 3)) * 3 + 2\n",
    "\n",
    "# 3x3 array with uniform random numbers from [2, 5]\n",
    "d = np.random.uniform(2, 5, (3, 3))\n",
    "\n",
    "print(a)\n",
    "print(b)\n",
    "print(c)\n",
    "print(d)\n"
   ]
  },
  {
   "cell_type": "markdown",
   "id": "998b6686-4303-4044-a547-5208b012988f",
   "metadata": {},
   "source": [
    "## 13.4 \n",
    "\n",
    "Prófið að keyra forritsbútinn hér á undan með öðru seed, og prófið líka að sleppa frumstillingunni\n"
   ]
  },
  {
   "cell_type": "code",
   "execution_count": 4,
   "id": "ebee014c-282a-448f-87bb-5677dbc7b22a",
   "metadata": {},
   "outputs": [
    {
     "name": "stdout",
     "output_type": "stream",
     "text": [
      "[3 3 7 2 4]\n",
      "[3 3 7 2 4]\n",
      "[8 3 2 7 7]\n"
     ]
    }
   ],
   "source": [
    "import numpy as np\n",
    "\n",
    "np.random.seed(123)\n",
    "x = np.random.randint(1, 10, size=5)\n",
    "print(x)\n",
    "\n",
    "np.random.seed(123)\n",
    "y = np.random.randint(1, 10, size=5)\n",
    "print(y)\n",
    "\n",
    "np.random.seed()\n",
    "z = np.random.randint(1, 10, size=5)\n",
    "print(z)"
   ]
  },
  {
   "cell_type": "markdown",
   "id": "f960d9c8-2117-47e8-80d0-4b6c704ada05",
   "metadata": {},
   "source": [
    "## 13.5"
   ]
  },
  {
   "cell_type": "code",
   "execution_count": 5,
   "id": "63b83fc5-585a-4b66-99ae-a39e9a26062b",
   "metadata": {},
   "outputs": [
    {
     "name": "stdout",
     "output_type": "stream",
     "text": [
      "['Jói', 'Ari', 'Óli', 'Ása', 'Una']\n",
      "['Óli', 'Ása', 'Una']\n",
      "[12 20  6 30  2]\n",
      "['Litur himinsins?', 'Er sól?', '2+2?', 'Hver vann?']\n",
      "['blár', 'nei', '4', 'Jói']\n"
     ]
    }
   ],
   "source": [
    "import numpy as np\n",
    "from random import sample\n",
    "\n",
    "# Raða lista í handahófsröð\n",
    "names = [\"Ari\", \"Ása\", \"Jói\", \"Óli\", \"Una\"]\n",
    "shuffle(names)\n",
    "print(names)\n",
    "\n",
    "# Velja þrjá af handahófi\n",
    "chosen = sample(names, 3)\n",
    "print(chosen)\n",
    "\n",
    "# Búa til vigur og raða í slembiröð\n",
    "x = [k + k**2 for k in range(1, 6)]\n",
    "y = np.array([x_k for x_k in x])\n",
    "np.random.shuffle(y)\n",
    "print(y)\n",
    "\n",
    "# Raða spurningum og svörum í handahófsröð\n",
    "questions = [\"Litur himinsins?\", \"2+2?\", \"Hver vann?\", \"Er sól?\"]\n",
    "answers = [\"blár\", \"4\", \"Jói\", \"nei\"]\n",
    "q_indices = sample(range(len(questions)), len(questions))\n",
    "shuffled_questions = [questions[i] for i in q_indices]\n",
    "shuffled_answers = [answers[i] for i in q_indices]\n",
    "print(shuffled_questions)\n",
    "print(shuffled_answers)\n"
   ]
  },
  {
   "cell_type": "code",
   "execution_count": null,
   "id": "517b1920-e226-48b9-a546-0f2053893579",
   "metadata": {},
   "outputs": [],
   "source": []
  }
 ],
 "metadata": {
  "kernelspec": {
   "display_name": "Python 3 (ipykernel)",
   "language": "python",
   "name": "python3"
  },
  "language_info": {
   "codemirror_mode": {
    "name": "ipython",
    "version": 3
   },
   "file_extension": ".py",
   "mimetype": "text/x-python",
   "name": "python",
   "nbconvert_exporter": "python",
   "pygments_lexer": "ipython3",
   "version": "3.10.8"
  }
 },
 "nbformat": 4,
 "nbformat_minor": 5
}
