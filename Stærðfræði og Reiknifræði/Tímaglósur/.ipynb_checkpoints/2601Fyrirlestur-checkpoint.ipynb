{
 "cells": [
  {
   "cell_type": "markdown",
   "id": "a6192509-0edf-4a9b-8ae4-d26491fb83ec",
   "metadata": {},
   "source": [
    "Æfing 5.6\n",
    "\n",
    "Smíðið pörin (0,2), (1,4), (2,6), (3,8), (4,10) með enumerate og prentið út (til dæmis dugar E = enumerate(...) og print(list(E))).\n",
    "\n",
    "Smíðið sömu pör með zip.\n",
    "\n",
    "Látið nöfn vera nafnalistann í sýnidæminu „Nöfn og númer“ og eink vera [8, 7, 10, 9] (einkunnir í landafræði). Skrifið forrit sem notar enumerate til að búa til töfluna:\n",
    "\n",
    "Nr  Nafn  Einkunn\n",
    "–––––––––––––––––\n",
    "1   Ása      8\n",
    "2   Bjarni   7\n",
    "3   Dóra    10\n",
    "4   Einar    9\n",
    "Leiðbeining: Hægt er að nota enumerate og zip saman svona:\n",
    "\n",
    "for nr,(s1,s2) = enumerate(zip(L1,L2),1)\n",
    "\n",
    "Þá hleypur nr í gegn um 1,2,3… og samtímis hlaupa s1 og s2 í gegn um stökin í L1 og L2.\n"
   ]
  },
  {
   "cell_type": "code",
   "execution_count": 17,
   "id": "fd095838-e1a7-46cd-ae25-e21391e599e0",
   "metadata": {},
   "outputs": [
    {
     "name": "stdout",
     "output_type": "stream",
     "text": [
      "Pör með enumerate:  [(0, 2), (1, 4), (2, 6), (3, 8), (4, 10)]\n",
      "Pör með zip:  [(0, 2), (1, 4), (2, 6), (3, 8), (4, 10)]\n",
      "Númer     Nafn       Einkunn\n",
      "–––––––––––––––––––––––––––––\n",
      "1   Ása             8\n",
      "2   Bjarni             7\n",
      "3   Dóra             10\n",
      "4   Einar             9\n"
     ]
    }
   ],
   "source": [
    "#nota enumerate\n",
    "numer = [2, 4, 6, 8, 10]\n",
    "por = [(i, x) for i, x in enumerate(numer)]\n",
    "print(\"Pör með enumerate: \",por)\n",
    "\n",
    "# nota zip\n",
    "indices = [0, 1, 2, 3, 4]\n",
    "numer = [2, 4, 6, 8, 10]\n",
    "ppor = list(zip(indices, numer))\n",
    "print(\"Pör með zip: \",por)\n",
    "\n",
    "# Enumerate til þess að búa til töflu\n",
    "nafn = [\"Ása\", \"Bjarni\", \"Dóra\", \"Einar\"]\n",
    "einkunn = [8, 7, 10, 9]\n",
    "\n",
    "print(\"Númer     Nafn       Einkunn\")\n",
    "print(\"–––––––––––––––––––––––––––––\")\n",
    "for i, (nafn, einkunn) in enumerate(zip(nafn, einkunn), 1):\n",
    "    print(f\"{i}   {nafn}             {einkunn}\")\n"
   ]
  },
  {
   "cell_type": "code",
   "execution_count": 24,
   "id": "6a63fce4-7283-4ae6-ae46-171ae3a8b61e",
   "metadata": {},
   "outputs": [
    {
     "name": "stdout",
     "output_type": "stream",
     "text": [
      "<enumerate object at 0x104577600>\n",
      "[(0, 2), (1, 4), (2, 6), (3, 8), (4, 10)]\n",
      "[(0, 2), (1, 4), (2, 6), (3, 8), (4, 10)]\n",
      "Nr Nafn Eiknunn\n",
      "------------------------\n",
      "1  Ása      8\n",
      "2  Bjarni   7\n",
      "3  Dóra    10\n",
      "4  Einar    9\n"
     ]
    }
   ],
   "source": [
    "#1 smíða með enumerate\n",
    "L = [2, 4, 6, 8, 10]\n",
    "E = enumerate(L)\n",
    "print(E)\n",
    "print(list(E))\n",
    "\n",
    "\n",
    "[(0,2), (1,4), (2,6), (3,8), (4,10)]\n",
    "\n",
    "#2 Sömu por með zop\n",
    "L1 = [0, 1, 2, 3, 4]\n",
    "Z = zip(L1,L)\n",
    "print(list(Z))\n",
    "\n",
    "[(0,2), (1,4), (2,6), (3,8), (4,10)]\n",
    "\n",
    "#3 tafla\n",
    "\n",
    "nöfn = [\"Ása\", \"Bjarni\", \"Dóra\", \"Einar\"]\n",
    "eink = [8, 7, 10, 9]\n",
    "print('Nr Nafn Eiknunn')\n",
    "print(\"------------------------\")\n",
    "\n",
    "for nr, (nafn,einkunn) in enumerate(zip(nöfn,eink), 1):\n",
    "    print(f\"{nr:1}  {nafn:7} {einkunn:2}\")"
   ]
  },
  {
   "cell_type": "markdown",
   "id": "3c098428-4cc8-4c6c-8a45-ffc70dc502c6",
   "metadata": {},
   "source": [
    "6.2 æfing\n",
    "\n",
    "Rifjið upp það sem stendur í kafla 5.3.2 um tilvísanir og fallið copy. \n",
    "Búið til lista L = [2, 3, 5, 7], afritið hann í L1 og L2 með venjulegri gildisgjöf (L1 = L) og með copy (L2 = L.copy()).\n",
    "Prófið svo að bera listana saman bæði með „==“ og með „is“."
   ]
  },
  {
   "cell_type": "code",
   "execution_count": 26,
   "id": "c9eaee08-a75b-4e55-907d-3eacd958a513",
   "metadata": {},
   "outputs": [
    {
     "data": {
      "text/plain": [
       "(True, False)"
      ]
     },
     "execution_count": 26,
     "metadata": {},
     "output_type": "execute_result"
    }
   ],
   "source": [
    "L = [2, 3, 5 , 7]\n",
    "L1 = L\n",
    "L2 = L.copy()\n",
    "L1 == L2, L1 is L2 # er L1 það sama og L2 ? \n"
   ]
  },
  {
   "cell_type": "markdown",
   "id": "a287c81e-0520-4d16-aef1-02d0c139cc7a",
   "metadata": {},
   "source": [
    "6.3 Rökgildalistar \n",
    "\n",
    "Beitið any og all á rökgildalistana [True, True, False], [False, False] og [True, True]."
   ]
  },
  {
   "cell_type": "code",
   "execution_count": 28,
   "id": "73de8493-3a31-4c60-b4f3-e794c4caf87b",
   "metadata": {},
   "outputs": [
    {
     "data": {
      "text/plain": [
       "(True, True, False)"
      ]
     },
     "execution_count": 28,
     "metadata": {},
     "output_type": "execute_result"
    }
   ],
   "source": [
    "L = [True, True, False]\n",
    "L1 = [True, True]\n",
    "L2 = [False, False] \n",
    "\n",
    "any(L), any(L1), any(L2)\n"
   ]
  },
  {
   "cell_type": "code",
   "execution_count": 29,
   "id": "769751ed-5532-4c6c-9c78-c78b0d63f08c",
   "metadata": {},
   "outputs": [
    {
     "data": {
      "text/plain": [
       "(False, True, False)"
      ]
     },
     "execution_count": 29,
     "metadata": {},
     "output_type": "execute_result"
    }
   ],
   "source": [
    "all(L), all(L1), all(L2) "
   ]
  },
  {
   "cell_type": "markdown",
   "id": "2d68477f-b052-425e-9952-acf3374d1320",
   "metadata": {},
   "source": [
    "6.2 Mengjalisti "
   ]
  },
  {
   "cell_type": "markdown",
   "id": "8852c523-9e4e-4b11-b86c-0cc0ef5964b9",
   "metadata": {},
   "source": [
    "Skrifið fall meðx(M,x) þar M er listi af mengjum,\n",
    "M = [M[0], M[1],...], og x er eitthvað gildi. \n",
    "Fallið á að skila lista af rökgildum, r, \n",
    "þannig að r[i] sé satt ef x ∈\n",
    "M[i], annars ósatt.\n",
    " \n",
    " Prófið með \n",
    " M = [{0,1,2}, {1,2,3}, {2,3,4}] \n",
    " og\n",
    " x=3 sem ætti að skila [False, True, True].\n",
    "\n",
    "Prófið föllin any og all á niðurstöðu prófunarinnar í lið 1."
   ]
  },
  {
   "cell_type": "code",
   "execution_count": 32,
   "id": "f0046433-40df-479f-9f83-227f2bd83c81",
   "metadata": {},
   "outputs": [
    {
     "data": {
      "text/plain": [
       "[False, True, True]"
      ]
     },
     "execution_count": 32,
     "metadata": {},
     "output_type": "execute_result"
    }
   ],
   "source": [
    "def meðx(M, x): \n",
    "    r =[]\n",
    "    for (i,Mi) in enumerate(M):\n",
    "        xerstak = x in Mi\n",
    "        r.append(xerstak)\n",
    "    return r\n",
    "\n",
    "M = [{0,1,2}, {1,2,3}, {2,3,4}]\n",
    "meðx(M,3)\n"
   ]
  },
  {
   "cell_type": "markdown",
   "id": "a2c9018f-1893-49f0-bb43-bf2632e4700a",
   "metadata": {},
   "source": [
    "6.4 Rómverariddarar\n",
    "\n",
    "Hvað eru mörg r í „Rómverskur riddari réðst inn í Rómarborg, rændi þar og ruplaði radísum og rófum“ (notið lower og count).\n",
    "Í hvaða sæti er æ-ið?\n",
    "\n",
    "Ef s kemur alls ekki fyrir í runu R þá skilar index-aðferðin villu. Ef hætta er á að það gerist þarf að verja sig með því að byrja á að spyrja if s in R:.... Framkallið þessi villuskilaboð með því að leita að 4 í listanum [1,2,3] og búið í framhaldi til fall sem finnur staðsetninguna, en skilar -1 í staðinn fyrir að gefa villu þegar s finnst ekki. Prófið með því að leita að 3 og aftur að 4 í listanum [1,2,3]\n",
    "\n",
    "Búið til samstæðuna (1, 2, 3, 1, 2, 3) bæði með samskeytingu og fjölföldun (+ og *)"
   ]
  },
  {
   "cell_type": "code",
   "execution_count": null,
   "id": "103c5a56-9cc9-44e3-9135-791e12ad4088",
   "metadata": {},
   "outputs": [],
   "source": [
    "s = \"Rómverskur riddari réðst inn í Rómarborg, rændi þar og ruplaði radísum og rófum"
   ]
  },
  {
   "cell_type": "code",
   "execution_count": 38,
   "id": "5a239216-fb74-477e-b484-1d616ffdc180",
   "metadata": {},
   "outputs": [
    {
     "name": "stdout",
     "output_type": "stream",
     "text": [
      "2\n"
     ]
    },
    {
     "ename": "NameError",
     "evalue": "name 'r' is not defined",
     "output_type": "error",
     "traceback": [
      "\u001b[0;31m---------------------------------------------------------------------------\u001b[0m",
      "\u001b[0;31mNameError\u001b[0m                                 Traceback (most recent call last)",
      "Cell \u001b[0;32mIn[38], line 14\u001b[0m\n\u001b[1;32m     12\u001b[0m R \u001b[38;5;241m=\u001b[39m [\u001b[38;5;241m1\u001b[39m, \u001b[38;5;241m2\u001b[39m, \u001b[38;5;241m3\u001b[39m]\n\u001b[1;32m     13\u001b[0m \u001b[38;5;28mprint\u001b[39m(leita(R, \u001b[38;5;241m3\u001b[39m))\n\u001b[0;32m---> 14\u001b[0m \u001b[38;5;28mprint\u001b[39m(leita(\u001b[43mr\u001b[49m, \u001b[38;5;241m4\u001b[39m))\n",
      "\u001b[0;31mNameError\u001b[0m: name 'r' is not defined"
     ]
    }
   ],
   "source": [
    "s = \"Rómverskur riddari réðst inn í Rómarborg, rændi þar og ruplaði radísum og rófum\"\n",
    "sl = s.lower()\n",
    "sl.count(\"r\")\n",
    "\n",
    "\n",
    "def leita(R,s):\n",
    "        \"skila staðsetningu s í R, -1 ef s finnst ekki\"\n",
    "        if s in R:\n",
    "            return R.index(s)\n",
    "        else :\n",
    "            return -1\n",
    "R = [1, 2, 3]\n",
    "print(leita(R, 3))\n",
    "print(leita(r, 4))"
   ]
  },
  {
   "cell_type": "code",
   "execution_count": 39,
   "id": "6de1c8b4-542a-4530-abc6-1d07e348c93f",
   "metadata": {},
   "outputs": [],
   "source": [
    "s = (1, 2, 3) \n",
    "s1 = s "
   ]
  },
  {
   "cell_type": "markdown",
   "id": "e5d41e87-03d1-4f3e-bbf2-443ea63305dd",
   "metadata": {},
   "source": [
    "6.7 æfing\n",
    "\n",
    "Notið yfirgrip til að búa til lista með veldum af 2 frá 1 til 10, [2,4,8,..., 1024]\n",
    "\n",
    "Látið x = [3,4,0,2,0,8,5] og notið yfirgrip til að búa til y með jákvæðum stökum x"
   ]
  },
  {
   "cell_type": "code",
   "execution_count": 40,
   "id": "79682032-a342-409e-8784-631b29f26cc0",
   "metadata": {},
   "outputs": [
    {
     "data": {
      "text/plain": [
       "[3, 4, 2, 8, 5]"
      ]
     },
     "execution_count": 40,
     "metadata": {},
     "output_type": "execute_result"
    }
   ],
   "source": [
    "x = [3, 4, 0, 2, 0, 8, 5]\n",
    "y = [s for s in x if s > 0 ]\n",
    "y"
   ]
  },
  {
   "cell_type": "markdown",
   "id": "9c6192d3-be25-4b97-8a10-d0e0c63f2082",
   "metadata": {},
   "source": [
    "7.2 Ígildi spjaldskrár í tölvu \n",
    "\n"
   ]
  },
  {
   "cell_type": "code",
   "execution_count": 48,
   "id": "d74cdd76-3d2a-4d8d-8a80-d03925a7329d",
   "metadata": {},
   "outputs": [
    {
     "name": "stdout",
     "output_type": "stream",
     "text": [
      "Eva Evudóttir skuldar 4600 krónur\n"
     ]
    }
   ],
   "source": [
    "K = ['170858-4259' , '040302-0100' ,  '101010-1010']\n",
    "N = [\"Karl Karlsson\", \"Eva Evudóttir\", \"Ari Arason\"]\n",
    "S = [3500, 4600, 3400] \n",
    "\n",
    "def fletta(kt, K, N, S): \n",
    "    \n",
    "    if kt not in K:\n",
    "        print(\"Finnst ekki\")\n",
    "    else: \n",
    "        númer = K.index(kt)\n",
    "        nafn = N[númer]\n",
    "        skuld = S[númer]\n",
    "        print(f\"{nafn} skuldar {skuld} krónur\")\n",
    "            \n",
    "fletta('040302-0100', K, N, S) \n",
    "\n"
   ]
  },
  {
   "cell_type": "code",
   "execution_count": 51,
   "id": "2fc2956e-c6fc-4563-bb14-23dc2487e1b0",
   "metadata": {},
   "outputs": [
    {
     "name": "stdout",
     "output_type": "stream",
     "text": [
      "Eva Evudóttir skuldar 4600 krónur\n"
     ]
    }
   ],
   "source": [
    "T = {\n",
    "    '170858-4259': (\"Karl Karlsson\", 3500),\n",
    "    '040302-0100': (\"Eva Evudóttir\", 4600),\n",
    "    '101010-1010': (\"Ari Arason\",    3400),\n",
    "}\n",
    "\n",
    "def fletta(kt,T):\n",
    "    if kt not in K:\n",
    "        print('finnst ekki')\n",
    "    else:\n",
    "        (nafn,skuld) = T[kt]\n",
    "        print(f\"{nafn} skuldar {skuld} krónur\")\n",
    "        \n",
    "fletta('040302-0100', T)"
   ]
  },
  {
   "cell_type": "markdown",
   "id": "56bdb0bb-e091-4d3a-b5d9-5ddf2123ac4f",
   "metadata": {},
   "source": [
    "Testa bara aðeinsa "
   ]
  },
  {
   "cell_type": "code",
   "execution_count": null,
   "id": "fbd4659a-fd72-4634-a790-f1dd93d85eb5",
   "metadata": {},
   "outputs": [],
   "source": []
  }
 ],
 "metadata": {
  "kernelspec": {
   "display_name": "Python 3 (ipykernel)",
   "language": "python",
   "name": "python3"
  },
  "language_info": {
   "codemirror_mode": {
    "name": "ipython",
    "version": 3
   },
   "file_extension": ".py",
   "mimetype": "text/x-python",
   "name": "python",
   "nbconvert_exporter": "python",
   "pygments_lexer": "ipython3",
   "version": "3.10.8"
  }
 },
 "nbformat": 4,
 "nbformat_minor": 5
}
