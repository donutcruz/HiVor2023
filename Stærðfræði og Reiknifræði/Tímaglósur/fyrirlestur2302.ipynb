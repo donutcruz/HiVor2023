{
 "cells": [
  {
   "cell_type": "markdown",
   "id": "b11f0eb7-81d6-45be-8eba-6df62de19a17",
   "metadata": {},
   "source": [
    "# Tímaglósur Stærð- og Reiknifræði REI201G\n",
    "### Donn Eunice Bartido deb5@hi.is \n",
    "febrúar 2023\n"
   ]
  },
  {
   "cell_type": "markdown",
   "id": "5badbf1d-273b-4173-8a3d-67204ad63117",
   "metadata": {},
   "source": [
    "## 12.Dæmi um hagnýtingu fylkjareikninga"
   ]
  },
  {
   "cell_type": "markdown",
   "id": "205c089f-0b6b-4804-b238-7d7014eb3296",
   "metadata": {},
   "source": [
    "Lát flæði x[i,j] = 0 fyrir alla leggi i→j\n",
    "Meðan til er vegur (lind=v0, v1,..., vn=ós) þannig að hægt er að auka flæðið í öllum leggjum vi→vj:\n",
    "   c = hámarkið sem hægt er að auka flæðið um\n",
    "   x[i,j] += c fyrir alla leggi í veginum"
   ]
  },
  {
   "cell_type": "code",
   "execution_count": 3,
   "id": "06afa2fc-8355-4118-976a-a5fb8e47f69d",
   "metadata": {},
   "outputs": [
    {
     "ename": "ValueError",
     "evalue": "dinich method is not supported yet.",
     "output_type": "error",
     "traceback": [
      "\u001b[0;31m---------------------------------------------------------------------------\u001b[0m",
      "\u001b[0;31mValueError\u001b[0m                                Traceback (most recent call last)",
      "Cell \u001b[0;32mIn[3], line 3\u001b[0m\n\u001b[1;32m      1\u001b[0m \u001b[38;5;28;01mimport\u001b[39;00m \u001b[38;5;21;01mnumpy\u001b[39;00m \u001b[38;5;28;01mas\u001b[39;00m \u001b[38;5;21;01mnp\u001b[39;00m\u001b[38;5;241m,\u001b[39m \u001b[38;5;21;01mscipy\u001b[39;00m\u001b[38;5;21;01m.\u001b[39;00m\u001b[38;5;21;01msparse\u001b[39;00m \u001b[38;5;28;01mas\u001b[39;00m \u001b[38;5;21;01mssp\u001b[39;00m\n\u001b[1;32m      2\u001b[0m B \u001b[38;5;241m=\u001b[39m ssp\u001b[38;5;241m.\u001b[39mcsr_matrix([[\u001b[38;5;241m0\u001b[39m,\u001b[38;5;241m3\u001b[39m,\u001b[38;5;241m2\u001b[39m,\u001b[38;5;241m0\u001b[39m],[\u001b[38;5;241m0\u001b[39m,\u001b[38;5;241m0\u001b[39m,\u001b[38;5;241m1\u001b[39m,\u001b[38;5;241m3\u001b[39m],[\u001b[38;5;241m0\u001b[39m,\u001b[38;5;241m0\u001b[39m,\u001b[38;5;241m0\u001b[39m,\u001b[38;5;241m2\u001b[39m],[\u001b[38;5;241m0\u001b[39m,\u001b[38;5;241m0\u001b[39m,\u001b[38;5;241m0\u001b[39m,\u001b[38;5;241m0\u001b[39m]])\n\u001b[0;32m----> 3\u001b[0m flow \u001b[38;5;241m=\u001b[39m \u001b[43mssp\u001b[49m\u001b[38;5;241;43m.\u001b[39;49m\u001b[43mcsgraph\u001b[49m\u001b[38;5;241;43m.\u001b[39;49m\u001b[43mmaximum_flow\u001b[49m\u001b[43m(\u001b[49m\u001b[43mB\u001b[49m\u001b[43m,\u001b[49m\u001b[43m \u001b[49m\u001b[43msource\u001b[49m\u001b[38;5;241;43m=\u001b[39;49m\u001b[38;5;241;43m0\u001b[39;49m\u001b[43m,\u001b[49m\u001b[43m \u001b[49m\u001b[43msink\u001b[49m\u001b[38;5;241;43m=\u001b[39;49m\u001b[38;5;241;43m3\u001b[39;49m\u001b[43m,\u001b[49m\u001b[43m \u001b[49m\u001b[43mmethod\u001b[49m\u001b[38;5;241;43m=\u001b[39;49m\u001b[38;5;124;43m'\u001b[39;49m\u001b[38;5;124;43mdinich\u001b[39;49m\u001b[38;5;124;43m'\u001b[39;49m\u001b[43m,\u001b[49m\u001b[43m)\u001b[49m\n\u001b[1;32m      4\u001b[0m res \u001b[38;5;241m=\u001b[39m flow\u001b[38;5;241m.\u001b[39mresidual\u001b[38;5;241m.\u001b[39mtodense()\n\u001b[1;32m      5\u001b[0m X \u001b[38;5;241m=\u001b[39m np\u001b[38;5;241m.\u001b[39mwhere(res \u001b[38;5;241m>\u001b[39m \u001b[38;5;241m0\u001b[39m, res, \u001b[38;5;241m0\u001b[39m)\n",
      "File \u001b[0;32m_flow.pyx:272\u001b[0m, in \u001b[0;36mscipy.sparse.csgraph._flow.maximum_flow\u001b[0;34m()\u001b[0m\n",
      "\u001b[0;31mValueError\u001b[0m: dinich method is not supported yet."
     ]
    }
   ],
   "source": [
    "import numpy as np, scipy.sparse as ssp\n",
    "B = ssp.csr_matrix([[0,3,2,0],[0,0,1,3],[0,0,0,2],[0,0,0,0]])\n",
    "flow = ssp.csgraph.maximum_flow(B, source=0, sink=3, method='dinich',)\n",
    "res = flow.residual.todense()\n",
    "X = np.where(res > 0, res, 0)\n",
    "print(f\"Hámarksflæði = {flow.flow_value}\")\n",
    "print(\"Tilsvarandi flæðinet:\")\n",
    "print(X)\n",
    "\n"
   ]
  },
  {
   "cell_type": "code",
   "execution_count": 4,
   "id": "b719c0da-dca5-4f5d-838d-0299dfe35482",
   "metadata": {},
   "outputs": [
    {
     "name": "stdout",
     "output_type": "stream",
     "text": [
      "[6.4 3.2 1.6 0.8]\n"
     ]
    }
   ],
   "source": [
    "import numpy as np\n",
    "import numpy.linalg as la\n",
    "\n",
    "def leysa(n):\n",
    "   A = np.zeros((n,n))\n",
    "   b = np.zeros(n)\n",
    "   for i in range(n-1):\n",
    "      A[i,(i,i+1)] = [-1, 2]  # setjum tvö stök í einu\n",
    "   for j in range(n):\n",
    "      A[n-1,j] = 1            # ásar í neðstu línu\n",
    "   b[n-1] = 3*n\n",
    "   x = la.solve(A, b)\n",
    "   return x\n",
    "\n",
    "# Finnum lausn með n = 4\n",
    "n = 4\n",
    "x = leysa(n)\n",
    "\n",
    "# Prentum út lausnina\n",
    "print(x)\n"
   ]
  },
  {
   "cell_type": "markdown",
   "id": "cc9c4aaf-8acd-496d-ade4-4922c4ef56d9",
   "metadata": {},
   "source": []
  }
 ],
 "metadata": {
  "kernelspec": {
   "display_name": "Python 3 (ipykernel)",
   "language": "python",
   "name": "python3"
  },
  "language_info": {
   "codemirror_mode": {
    "name": "ipython",
    "version": 3
   },
   "file_extension": ".py",
   "mimetype": "text/x-python",
   "name": "python",
   "nbconvert_exporter": "python",
   "pygments_lexer": "ipython3",
   "version": "3.10.8"
  }
 },
 "nbformat": 4,
 "nbformat_minor": 5
}
