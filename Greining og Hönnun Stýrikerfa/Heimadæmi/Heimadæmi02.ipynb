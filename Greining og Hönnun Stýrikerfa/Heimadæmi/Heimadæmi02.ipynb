{
 "cells": [
  {
   "cell_type": "markdown",
   "id": "5cbe9b4f-adba-4691-b6a3-5d41b4d450b7",
   "metadata": {},
   "source": [
    "# Heimadæmi02  Greining og Hönnun stýrikerfa TÖV201G\n",
    "### Donn Eunice Bartido deb5@hi.is \n",
    "Janúar 2023"
   ]
  },
  {
   "cell_type": "markdown",
   "id": "ee76ccfc-befd-4aa9-9b05-054074f84f53",
   "metadata": {},
   "source": [
    "### 2.1 Demonstrate the Validity of the following identities by means of truth tables\n"
   ]
  },
  {
   "cell_type": "markdown",
   "id": "0de61f58-8fd7-484e-981e-2116dd9d7f61",
   "metadata": {},
   "source": [
    "#### a) DeMorgan's theorem for three variables: (x +y +z) = x'y'z' and (xyz)' = x' + y' + z' \n"
   ]
  },
  {
   "cell_type": "markdown",
   "id": "fa105372-fe94-468c-9131-09c9d6e65a49",
   "metadata": {},
   "source": [
    "| x|y | z | x + y + z | (x + y + z)' | x' | y' | z' | x'y'z' |\n",
    "|---|---|---|-----------|--------------|----|----|----|--------|\n",
    "| 0 | 0 | 0 | 0         | 1            | 1  | 1  | 1  | 1      |\n",
    "| 0 | 0 | 1 | 1         | 0            | 1  | 1  | 0  | 0      |\n",
    "| 0 | 1 | 0 | 1         | 0            | 1  | 0  | 1  | 0      |\n",
    "| 0 | 1 | 1 | 1         | 0            | 1  | 0  | 0  | 0      |\n",
    "| 1 | 0 | 0 | 1         | 0            | 0  | 1  | 1  | 0      | \n",
    "| 1 | 0 | 1 | 1         | 0            | 0  | 1  | 0  | 0      |\n",
    "| 1 | 0 | 0 | 1         | 0            | 0  | 1  | 1  | 0      |\n",
    "| 1 | 0 | 1 | 1         | 0            | 0  | 1  | 0  | 0      |"
   ]
  },
  {
   "cell_type": "markdown",
   "id": "5d653063-8563-4265-95bd-4762b4a819cb",
   "metadata": {},
   "source": [
    "| x | y | z | (xyz) | (xyz)' | x' | y' | z' | x'+ y' + z' |\n",
    "|---|---|---|-------|--------|----|----|----|-------------|\n",
    "| 0 | 0 | 0 | 0     | 1      | 1  | 1  | 1  | 1           |\n",
    "| 0 | 0 | 1 | 0     | 1      | 1  | 1  | 0  | 1           |\n",
    "| 0 | 1 | 0 | 0     | 1      | 1  | 0  | 1  | 1           |\n",
    "| 0 | 1 | 1 | 0     | 1      | 1  | 0  | 0  | 1           |\n",
    "| 1 | 0 | 0 | 0     | 1      | 0  | 1  | 1  | 1           |\n",
    "| 1 | 0 | 1 | 0     | 1      | 0  | 1  | 0  | 1           |\n",
    "| 1 | 1 | 0 | 0     | 1      | 0  | 0  | 1  | 1           |\n",
    "| 1 | 1 | 1 | 1     | 0      | 0  | 0  | 0  | 0           |"
   ]
  },
  {
   "cell_type": "markdown",
   "id": "023d8c6d-6868-462e-899b-d65c28c137b3",
   "metadata": {},
   "source": [
    "#### b) The distributive law : x + yz = (x + y)(x + z)"
   ]
  },
  {
   "cell_type": "markdown",
   "id": "5b919eed-3b2b-4919-8f5f-9d16ebdbeacb",
   "metadata": {},
   "source": [
    "| x | y | z | x + yz | (x + y) | (x + z) | (x + y)(x + z) |\n",
    "|---|---|---|--------|---------|---------|----------------|\n",
    "| 0 | 0 | 0 | 0      | 0       | 0       | 0              |\n",
    "| 0 | 0 | 1 | 0      | 0       | 1       | 0              |\n",
    "| 0 | 1 | 0 | 0      | 1       | 0       | 0              |\n",
    "| 0 | 1 | 1 | 1      | 1       | 1       | 1              |\n",
    "| 1 | 0 | 0 | 1      | 1       | 1       | 1              |\n",
    "| 1 | 0 | 1 | 1      | 1       | 1       | 1              |\n",
    "| 1 | 1 | 0 | 1      | 1       | 1       | 1              |\n",
    "| 1 | 1 | 1 | 1      | 1       | 1       | 1              |"
   ]
  },
  {
   "cell_type": "markdown",
   "id": "cfc2611d-d439-400f-b006-332f72065527",
   "metadata": {},
   "source": [
    "#### c) The distributive law : x(y + z) = xy + xz"
   ]
  },
  {
   "cell_type": "markdown",
   "id": "0192dd95-c1bc-40fa-8585-a0e4cdf8915c",
   "metadata": {},
   "source": [
    "| x | y | z | x(y + z) | xy | xz | xy + xz |\n",
    "|---|---|---|----------|----|----|---------|\n",
    "| 0 | 0 | 0 | 0        | 0  | 0  | 0       |\n",
    "| 0 | 0 | 1 | 0        | 0  | 0  | 0       |\n",
    "| 0 | 1 | 0 | 0        | 0  | 0  | 0       |\n",
    "| 0 | 1 | 1 | 0        | 0  | 0  | 0       |\n",
    "| 1 | 0 | 0 | 0        | 0  | 0  | 0       |\n",
    "| 1 | 0 | 1 | 1        | 0  | 1  | 1       |\n",
    "| 1 | 1 | 0 | 1        | 1  | 0  | 1       |\n",
    "| 1 | 1 | 1 | 1        | 1  | 1  | 1       |"
   ]
  },
  {
   "cell_type": "markdown",
   "id": "ed45cea5-de04-46be-8f47-fc7ae7635806",
   "metadata": {},
   "source": [
    "#### d) The associative law: x + (y + z) = (x + y) + z"
   ]
  },
  {
   "cell_type": "markdown",
   "id": "a34d5ccb-b88d-447c-bb85-da6a5f3e2d58",
   "metadata": {},
   "source": [
    "| x | y | z | x | y + z | x + (y + z) | (x + y) | (x + y) + z |\n",
    "|---|---|---|---|-------|-------------|---------|-------------|\n",
    "| 0 | 0 | 0 | 0 | 0     | 0           | 0       | 0           |\n",
    "| 0 | 0 | 1 | 0 | 1     | 1           | 0       | 1           |\n",
    "| 0 | 1 | 0 | 0 | 1     | 1           | 1       | 1           |\n",
    "| 0 | 1 | 1 | 0 | 1     | 1           | 1       | 1           |\n",
    "| 1 | 0 | 0 | 1 | 0     | 1           | 1       | 1           |\n",
    "| 1 | 0 | 1 | 1 | 1     | 1           | 1       | 1           |\n",
    "| 1 | 1 | 0 | 1 | 1     | 1           | 1       | 1           |\n",
    "| 1 | 1 | 1 | 1 | 1     | 1           | 1       | 1           |"
   ]
  },
  {
   "cell_type": "markdown",
   "id": "bf627dcc-2415-468e-a52d-19559f438610",
   "metadata": {},
   "source": [
    "#### d) The associative law: x(yz) = (xy)z"
   ]
  },
  {
   "cell_type": "markdown",
   "id": "185a4eab-b35b-4c24-8b5b-97d5666a5a3f",
   "metadata": {},
   "source": [
    "| x | y | z | yz | x(yz) | xy | (xy)z |\n",
    "|---|---|---|----|-------|----|-------|\n",
    "| 0 | 0 | 0 | 0  | 0     | 0  | 0     |\n",
    "| 0 | 0 | 1 | 0  | 0     | 0  | 0     |\n",
    "| 0 | 1 | 0 | 0  | 0     | 0  | 0     |\n",
    "| 0 | 1 | 1 | 1  | 0     | 0  | 0     |\n",
    "| 1 | 0 | 0 | 0  | 0     | 0  | 0     |\n",
    "| 1 | 0 | 1 | 0  | 0     | 0  | 0     |\n",
    "| 1 | 1 | 0 | 0  | 0     | 1  | 0     |\n",
    "| 1 | 1 | 1 | 1  | 1     | 1  | 1     |"
   ]
  },
  {
   "cell_type": "markdown",
   "id": "85ba4575-c164-47ab-98f0-cfa442ec2e48",
   "metadata": {},
   "source": [
    "### 2.4 Reduce the following Boolean expression to the indicated number of literals :\n"
   ]
  },
  {
   "cell_type": "markdown",
   "id": "6c1b755f-61ba-4420-84b8-ad8af3ce2f62",
   "metadata": {},
   "source": [
    "#### (a) A'C' + ABC + AC' -> to three literals\n",
    "\n",
    "A'C' + ABC + AC' \n",
    "\n",
    "= C' + ABC \n",
    "\n",
    "= (C+C')(C'+AB) \n",
    "\n",
    "= AB + C' \n",
    "\n",
    "#### (b) (x'y' + z)' + z + xy + wz -> to three literals\n",
    "\n",
    "(x'y'+z)'+z+xy+wz\n",
    "\n",
    "=(x'y')'z'+z+xy+wz\n",
    "=[(x+y)z'+z]+xy+wz\n",
    "\n",
    "\n",
    "== (z + z')(z + x + y) + xy + wz\n",
    "\n",
    "= z + wz + x + xy + y \n",
    "\n",
    "= z(1 + w) + x(1 + y) + y\n",
    "\n",
    "\n",
    "= x + y + z\n",
    "\n",
    "#### (c) A'B(D' + C'D) + B(A + A'CD) -> to one literal\n",
    "\n",
    "A'B(D'+C'D)+B(A+A'CD)\n",
    "\n",
    "=B(A'D'+A'C'D+A+A'CD)\n",
    "\n",
    "= B(A'D' + A + A'D(C + C') \n",
    "\n",
    "= B(A + A'(D' + D)) \n",
    "\n",
    "= B(A + A') \n",
    "\n",
    "\n",
    "= B\n",
    "\n",
    "#### (d) (A' + C)(A' + C')(A + B + C'D) -> to four literals\n",
    "\n",
    "(A'+C)(A'+C')(A+B+C'D)\n",
    "\n",
    "=(A'+CC')(A+B+C'D)\n",
    "\n",
    "=A'(A+B+C'D) \n",
    "\n",
    "= AA' + A'B + A'C'D \n",
    "\n",
    "\n",
    "= A'(B + C'D)\n",
    "\n",
    "#### (e) ABC'D + A'BD + ABCD -> to two literals\n",
    "\n",
    "ABCD+A'BD+ABC'D\n",
    "\n",
    "=ABD+A'BD\n",
    "\n",
    "=BD\n",
    "\n",
    "\n",
    "\n",
    "\n",
    "\n",
    "\n",
    "\n"
   ]
  },
  {
   "cell_type": "markdown",
   "id": "4d7c1eda-4150-4a35-a1cf-ee5edeb8d315",
   "metadata": {},
   "source": [
    "#### 2.12 We can preform logical operations on strings of bits by considering each pair of corresponding bits separately (called bitwise operation) Given two eight-bit strings string A = 10110001, B = 10101100 Evaluate the eight-eight but result\n",
    "\n",
    "a) A AND B = 1010_0000\n",
    "\n",
    "b) A OR B = 1011_1101\n",
    "\n",
    "c) A XOR B = 0001_1101\n",
    "\n",
    "d) Not A = = 0100_1110\n",
    "\n",
    "e) Not B = 0101_0011"
   ]
  },
  {
   "cell_type": "markdown",
   "id": "9c26e073-6637-44db-9726-24d3a1f8db57",
   "metadata": {},
   "source": [
    "#### 2.17 Obtain the truth table of the following functions, and express each function in sum of min terms and product of maxterms form\n",
    "\n",
    "a) (b + cd)(c +bd)"
   ]
  },
  {
   "cell_type": "markdown",
   "id": "b0596853-4e6c-4149-8016-c9616c0646f7",
   "metadata": {},
   "source": [
    "#### 2.27 Write the Boolean equations and draw the logic diagram of the circuit whose outputs are defined by the following truth table: \n",
    "\n",
    "| a | b | c | f1 | f2 |\n",
    "|---|---|---|----|----|\n",
    "| 0 | 0 | 0 | 1  | 0  |\n",
    "| 0 | 0 | 1 | 0  | 0  |\n",
    "| 0 | 1 | 0 | 0  | 1  |\n",
    "| 0 | 1 | 1 | 1  | 1  |\n",
    "| 1 | 0 | 0 | 0  | 1  |\n",
    "| 1 | 0 | 1 | 0  | 1  |\n",
    "| 1 | 1 | 0 | 1  | 1  |\n",
    "| 1 | 1 | 1 | 1  | 0  |\n",
    "\n",
    "f1 = a'b'c + a'bc + abc' + abc \n",
    "\n",
    "f2= a'bc' + a'bc + ab'c' + ab'c + abc'\n",
    "\n",
    "<br>\n",
    "\n",
    "<br>\n",
    "\n",
    "<br>\n",
    "\n",
    "\n",
    "<br>\n",
    "\n",
    "<br>\n",
    "\n",
    "<br>\n",
    "\n",
    "<br>\n",
    "\n",
    "<br>\n",
    "\n",
    "<br>\n",
    "\n",
    "<br>\n",
    "\n",
    "<br>\n",
    "\n",
    "<br>\n",
    "\n",
    "<br>\n",
    "\n",
    "<br>\n",
    "\n",
    "<br>"
   ]
  },
  {
   "cell_type": "markdown",
   "id": "3d0f9909-d386-48fa-bba2-44f8658f9fda",
   "metadata": {},
   "source": [
    "#### 2.27 Draw logic diagrams of the circuits that implement the original and simplified expressions in Problem 2.4\n",
    "\n",
    "\n",
    "A)                                    \n",
    "\n",
    "<br>\n",
    "<br>\n",
    "<br>\n",
    "<br>\n",
    "<br>\n",
    "<br>\n",
    "<br>\n",
    "\n",
    "b)                                 \n",
    "\n",
    "<br>\n",
    "<br>\n",
    "<br>\n",
    "<br>\n",
    "<br>\n",
    "<br>\n",
    "<br>\n",
    "\n",
    "c)\n",
    "\n",
    "<br>\n",
    "<br>\n",
    "<br>\n",
    "<br>\n",
    "<br>\n",
    "<br>\n",
    "<br>\n",
    "\n",
    "d)                                    \n",
    "\n",
    "<br>\n",
    "<br>\n",
    "<br>\n",
    "<br>\n",
    "<br>\n",
    "<br>\n",
    "<br>\n",
    "\n",
    "e)                                    \n",
    "\n",
    "<br>\n",
    "<br>\n",
    "<br>\n",
    "<br>\n",
    "<br>\n",
    "<br>\n",
    "<br>\n",
    "\n"
   ]
  },
  {
   "cell_type": "code",
   "execution_count": null,
   "id": "847fa843-893e-40eb-b72e-a6c2e27a9795",
   "metadata": {},
   "outputs": [],
   "source": []
  }
 ],
 "metadata": {
  "kernelspec": {
   "display_name": "Python 3 (ipykernel)",
   "language": "python",
   "name": "python3"
  },
  "language_info": {
   "codemirror_mode": {
    "name": "ipython",
    "version": 3
   },
   "file_extension": ".py",
   "mimetype": "text/x-python",
   "name": "python",
   "nbconvert_exporter": "python",
   "pygments_lexer": "ipython3",
   "version": "3.10.8"
  }
 },
 "nbformat": 4,
 "nbformat_minor": 5
}
