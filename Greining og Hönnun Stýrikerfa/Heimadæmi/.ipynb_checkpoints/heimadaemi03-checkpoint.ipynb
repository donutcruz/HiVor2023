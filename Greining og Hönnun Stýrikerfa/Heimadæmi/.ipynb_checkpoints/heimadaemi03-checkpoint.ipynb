{
 "cells": [
  {
   "cell_type": "markdown",
   "id": "b99f4165-7a1d-4d6a-ac32-237e89ac6008",
   "metadata": {},
   "source": [
    "# Heimadæmi03  Greining og Hönnun stýrikerfa TÖV201G\n",
    "### Donn Eunice Bartido deb5@hi.is \n",
    "Janúar 2023"
   ]
  },
  {
   "cell_type": "markdown",
   "id": "080e8738-0385-40d9-a845-5a8a934e73e8",
   "metadata": {},
   "source": [
    "### 3.5 Simplify the following Boolean functions using variable "
   ]
  },
  {
   "cell_type": "markdown",
   "id": "92af75f4-955a-46a5-821b-778e6f1a8b99",
   "metadata": {},
   "source": [
    "**a) F (w,x,y,z) = (1,4,5,6,12,14,15)**\n",
    "\n",
    "\n",
    "\n",
    "<br>\n",
    "<br>\n",
    "<br>\n",
    "<br>\n",
    "<br>\n",
    "<br>"
   ]
  },
  {
   "cell_type": "markdown",
   "id": "24b4a4cc-2755-4d59-a025-41fcf75b0f6a",
   "metadata": {},
   "source": [
    "**b) F (A,B,C,D) = (2,3,6,7,12,13,14)**\n",
    "\n",
    "<br>\n",
    "<br>\n",
    "<br>\n",
    "<br>\n",
    "<br>\n",
    "<br>"
   ]
  },
  {
   "cell_type": "markdown",
   "id": "d1fc5b91-4924-4c9f-ad11-62d7c24e1f49",
   "metadata": {},
   "source": [
    "**e) F(w,x,y,z) = (1,3,4,5,6,7,9,11,13,15)**\n",
    "\n",
    "<br>\n",
    "<br>\n",
    "<br>\n",
    "<br>\n",
    "<br>\n",
    "<br>"
   ]
  },
  {
   "cell_type": "markdown",
   "id": "a7ee22f8-99a2-4dcd-b848-1e6035737ea9",
   "metadata": {},
   "source": [
    "**d) F(A,B,C,D) = (0,2,4,5,6,7,8,10,13,15)**\n",
    "\n",
    "\n",
    "\n",
    "<br>\n",
    "<br>\n",
    "<br>\n",
    "<br>\n",
    "<br>\n",
    "<br>"
   ]
  },
  {
   "cell_type": "markdown",
   "id": "5f71ad9a-015e-4d70-8a2f-359f32c3e577",
   "metadata": {},
   "source": [
    "### 3.10 Simplify the following functions by first finding the essential prime implicants:"
   ]
  },
  {
   "cell_type": "markdown",
   "id": "b4d23821-f870-4be8-8bb9-07cb19bd8560",
   "metadata": {},
   "source": [
    "#### a)F(w,x,y,z) =  (0,2,5,7,8,10,12,13,14,15)\n",
    "\n",
    "<br>\n",
    "<br>\n",
    "<br>\n",
    "<br>\n",
    "<br>\n",
    "<br>\n",
    "<br>\n",
    "<br>\n",
    "<br>\n",
    "<br>\n",
    "<br>\n",
    "<br>\n",
    "<br>\n",
    "<br>\n",
    "<br>\n",
    "<br>\n",
    "<br>"
   ]
  },
  {
   "cell_type": "markdown",
   "id": "53528c19-9925-4689-b205-d765276b723e",
   "metadata": {},
   "source": [
    "#### b) F(A,B,C,D) = 0,2,3,5,7,8,10,11,14,15)\n",
    "\n",
    "<br>\n",
    "<br>\n",
    "<br>\n",
    "<br>\n",
    "<br>\n",
    "<br>\n",
    "<br>\n",
    "<br>\n",
    "<br>\n",
    "<br>\n",
    "<br>\n",
    "<br>\n",
    "<br>\n",
    "<br>\n",
    "<br>\n",
    "<br>\n",
    "<br>\n",
    "<br>\n",
    "<br>\n",
    "<br>\n",
    "<br>\n",
    "<br>\n",
    "<br>"
   ]
  },
  {
   "cell_type": "markdown",
   "id": "b6e36244-4038-4cda-acf2-9c3112384d48",
   "metadata": {},
   "source": [
    "### 3.16 Simplify the following functions and implement them with two-level NAND gate circuits;"
   ]
  },
  {
   "cell_type": "markdown",
   "id": "46c1750f-faa2-4f7c-82c9-826e113a9982",
   "metadata": {},
   "source": [
    "#### a) F(A,B,C,D) = AC'D' + A'C + ABC + AB'C + A'C'D'"
   ]
  },
  {
   "cell_type": "markdown",
   "id": "0664a4b8-5c0b-4e82-8396-663ffc513854",
   "metadata": {},
   "source": [
    "<br>\n",
    "<br>\n",
    "<br>\n",
    "<br>\n",
    "<br>\n",
    "<br>\n",
    "<br>\n",
    "<br>\n",
    "<br>\n",
    "<br>\n",
    "<br>\n",
    "<br>"
   ]
  },
  {
   "cell_type": "markdown",
   "id": "ab9ac9b5-40d8-42d0-96dc-97f5146c5ff0",
   "metadata": {},
   "source": [
    "### B) F(A,B,C,D) = A'B'C'D + D' + B'C"
   ]
  },
  {
   "cell_type": "markdown",
   "id": "0b8b7493-5231-4182-b674-ce582df59666",
   "metadata": {},
   "source": [
    "<br>\n",
    "<br>\n",
    "<br>\n",
    "<br>\n",
    "<br>\n",
    "<br>\n",
    "<br>\n",
    "<br>\n",
    "<br>\n",
    "<br>\n",
    "<br>\n",
    "<br>"
   ]
  },
  {
   "cell_type": "markdown",
   "id": "80741641-a9b5-4cec-932a-c5b1b75d89b7",
   "metadata": {},
   "source": [
    "#### d) F(A,B,C,D) = A' + B + D' + B'C"
   ]
  },
  {
   "cell_type": "markdown",
   "id": "42340ed2-f928-4a8c-9239-bd554b3abda4",
   "metadata": {},
   "source": [
    "<br>\n",
    "<br>\n",
    "<br>\n",
    "<br>\n",
    "<br>\n",
    "<br>\n",
    "<br>\n",
    "<br>\n",
    "<br>\n",
    "<br>\n",
    "<br>\n",
    "<br>"
   ]
  },
  {
   "cell_type": "markdown",
   "id": "a96270bc-59d0-4afd-89ec-b4d25d3bfb0e",
   "metadata": {
    "jp-MarkdownHeadingCollapsed": true,
    "tags": []
   },
   "source": [
    "### 3.A0 Convert the following logic to an equivalent NOR-NOR circuit\n",
    "<br>\n",
    "<br>\n",
    "<br>\n",
    "<br>\n",
    "<br>\n",
    "<br>\n",
    "<br>\n",
    "<br>\n",
    "<br>\n",
    "<br>\n",
    "<br>\n",
    "<br>"
   ]
  },
  {
   "cell_type": "markdown",
   "id": "e93eafab-5dbe-4e5e-b49f-a2ec876e842c",
   "metadata": {},
   "source": [
    "### 3.A1 Convert the following Boolean funcitons from a sum-of-product form to a simplified product-of-sum"
   ]
  },
  {
   "cell_type": "markdown",
   "id": "2c3aede7-2970-4b2c-9277-c3cfd78b423a",
   "metadata": {},
   "source": [
    "#### i) F(A,B,C,D) =  81,2,3,6,8,9,10,11,12,14)"
   ]
  },
  {
   "cell_type": "markdown",
   "id": "facc231e-d5f1-4a96-be59-51ca686f3837",
   "metadata": {},
   "source": [
    "<br>\n",
    "<br>\n",
    "<br>\n",
    "<br>\n",
    "<br>\n",
    "<br>\n",
    "<br>\n",
    "<br>\n",
    "<br>\n"
   ]
  },
  {
   "cell_type": "markdown",
   "id": "c8176f43-803f-4489-aa52-8443024ac64d",
   "metadata": {},
   "source": [
    "#### ii) F(A,B,C,D) = (1,3,4,6,9,11,12,14)"
   ]
  },
  {
   "cell_type": "markdown",
   "id": "9a879f5d-b636-4288-b2f6-5648bd8ddd91",
   "metadata": {},
   "source": [
    "<br>\n",
    "<br>\n",
    "<br>\n",
    "<br>\n",
    "<br>\n",
    "<br>\n",
    "<br>\n",
    "<br>\n",
    "<br>"
   ]
  },
  {
   "cell_type": "code",
   "execution_count": null,
   "id": "1266aa8f-78b9-4a71-a814-a040c7a75b7f",
   "metadata": {},
   "outputs": [],
   "source": []
  }
 ],
 "metadata": {
  "kernelspec": {
   "display_name": "Python 3 (ipykernel)",
   "language": "python",
   "name": "python3"
  },
  "language_info": {
   "codemirror_mode": {
    "name": "ipython",
    "version": 3
   },
   "file_extension": ".py",
   "mimetype": "text/x-python",
   "name": "python",
   "nbconvert_exporter": "python",
   "pygments_lexer": "ipython3",
   "version": "3.10.8"
  }
 },
 "nbformat": 4,
 "nbformat_minor": 5
}
